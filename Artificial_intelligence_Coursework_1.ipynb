{
  "cells": [
    {
      "cell_type": "markdown",
      "metadata": {
        "id": "PAmta3jPjB4C"
      },
      "source": [
        "#introduction"
      ]
    },
    {
      "cell_type": "code",
      "source": [],
      "metadata": {
        "id": "PWhkpp3cZeg2"
      },
      "execution_count": null,
      "outputs": []
    },
    {
      "cell_type": "markdown",
      "metadata": {
        "id": "97JIriuuje53"
      },
      "source": [
        "##the task at hand"
      ]
    },
    {
      "cell_type": "markdown",
      "metadata": {
        "id": "djA-7szyjhHS"
      },
      "source": [
        "For this submission I will be following and citing frequently *Deep Learning With Python* (F. Chollet, Deep Learning with Python. Shelter Island (New York, Estados Unidos): Manning, Cop, 2018.)\n",
        "\n",
        "Using the *Boston Housing Pricing* dataset shipped with Keras. I will create a regression model that allows the user to make predictions on housing prices given a list of features."
      ]
    },
    {
      "cell_type": "markdown",
      "metadata": {
        "id": "0FP4C3DKkQOZ"
      },
      "source": [
        "## taking a closer look at our dataset"
      ]
    },
    {
      "cell_type": "code",
      "execution_count": null,
      "metadata": {
        "colab": {
          "base_uri": "https://localhost:8080/"
        },
        "id": "Nw8Fv8-gkUG0",
        "outputId": "92a0b917-e605-4927-87f9-2ee72432d169"
      },
      "outputs": [
        {
          "name": "stdout",
          "output_type": "stream",
          "text": [
            "Downloading data from https://storage.googleapis.com/tensorflow/tf-keras-datasets/boston_housing.npz\n",
            "57026/57026 [==============================] - 0s 0us/step\n"
          ]
        },
        {
          "data": {
            "text/plain": [
              "array([[1.23247e+00, 0.00000e+00, 8.14000e+00, ..., 2.10000e+01,\n",
              "        3.96900e+02, 1.87200e+01],\n",
              "       [2.17700e-02, 8.25000e+01, 2.03000e+00, ..., 1.47000e+01,\n",
              "        3.95380e+02, 3.11000e+00],\n",
              "       [4.89822e+00, 0.00000e+00, 1.81000e+01, ..., 2.02000e+01,\n",
              "        3.75520e+02, 3.26000e+00],\n",
              "       ...,\n",
              "       [3.46600e-02, 3.50000e+01, 6.06000e+00, ..., 1.69000e+01,\n",
              "        3.62250e+02, 7.83000e+00],\n",
              "       [2.14918e+00, 0.00000e+00, 1.95800e+01, ..., 1.47000e+01,\n",
              "        2.61950e+02, 1.57900e+01],\n",
              "       [1.43900e-02, 6.00000e+01, 2.93000e+00, ..., 1.56000e+01,\n",
              "        3.76700e+02, 4.38000e+00]])"
            ]
          },
          "execution_count": 1,
          "metadata": {},
          "output_type": "execute_result"
        }
      ],
      "source": [
        "from tensorflow.keras.datasets import boston_housing\n",
        "(train_data, train_targets), (test_data, test_targets) = (boston_housing.load_data())\n",
        "train_data"
      ]
    },
    {
      "cell_type": "markdown",
      "metadata": {
        "id": "Hey3CmhClOf5"
      },
      "source": [
        "Obviously this is not of much use to us however the *Keras documentation* will tell us: each sample (a property counted in the dataset) contains 13 features describing the area the house is in, they are as follows:\n",
        "\n",
        "* Per capita crime rate by town\n",
        "* Proportion of residential land zoned for lots over 25,000 sq.ft.\n",
        "* Proportion of non-retail business acres per town\n",
        "* Charles River dummy variable (= 1 if tract bounds river; 0 otherwise)\n",
        "* Nitric oxides concentration (parts per 10 million)\n",
        "* Average number of rooms per dwelling\n",
        "* Weighted distances to five Boston employment centres\n",
        "* Index of accessibility to radial highways\n",
        "* Full-value property-tax rate per $10,000\n",
        "* 1000(Bk - 0.63)^2 where Bk is the proportion of blacks by town (obviously this is appauling that it was even included in the dataset - it was however compiled in 1978, and for the sake of learning machine learning is unfortunately a valuable resource, so we will still continue to use this dataset for the sake of understanding how to create a regression model.)\n",
        "* % lower status of the population\n",
        "* Median value of owner-occupied homes in 1000's (dollars)\n",
        "\n",
        "\n",
        "The *Keras documentation* will also tell us that the 'targets' of the dataset, detail the values of the homes per sample in 1000's dollars.\n",
        "\n",
        "Citation:\n",
        "K. Team, “Keras documentation: Boston Housing price regression dataset,” keras.io. https://keras.io/api/datasets/boston_housing/ (accessed Nov. 15, 2022).\n",
        "\n",
        "\n",
        "\n"
      ]
    },
    {
      "cell_type": "markdown",
      "metadata": {
        "id": "smNhwPPrm4x9"
      },
      "source": [
        "Typically in machine learning we will want to check our dataset for anomalies, 'noisy' data, non representative data (this would be in the case we were perhaps given a brief of creating a ML model that predicts San Fransisco housing market trends in 2021). However as this is a dataset shipped with Keras, for the sake of this exercise we can trust it."
      ]
    },
    {
      "cell_type": "markdown",
      "metadata": {
        "id": "Nci6o7-RnZTw"
      },
      "source": [
        "##understanding the data"
      ]
    },
    {
      "cell_type": "markdown",
      "metadata": {
        "id": "WXM86eaCnb1r"
      },
      "source": [
        "It is very valuable to get a rough understanding of our dataset before we start working alongside it. To do this I'd like to plot graphs of the different features of our dataset to get a better idea of the ranges we are working with."
      ]
    },
    {
      "cell_type": "markdown",
      "metadata": {
        "id": "lmXwvcxdp3vv"
      },
      "source": [
        "###understanding trends"
      ]
    },
    {
      "cell_type": "code",
      "execution_count": null,
      "metadata": {
        "colab": {
          "base_uri": "https://localhost:8080/",
          "height": 282
        },
        "id": "jxlLTrKEnban",
        "outputId": "62d4023a-835b-4389-ba3e-44e327e0f2ba"
      },
      "outputs": [
        {
          "data": {
            "text/plain": [
              "[<matplotlib.lines.Line2D at 0x7f6adedee750>]"
            ]
          },
          "execution_count": 2,
          "metadata": {},
          "output_type": "execute_result"
        },
        {
          "data": {
            "image/png": "[encoded data removed]",
            "text/plain": [
              "<Figure size 432x288 with 1 Axes>"
            ]
          },
          "metadata": {
            "needs_background": "light"
          },
          "output_type": "display_data"
        }
      ],
      "source": [
        "import matplotlib.pyplot as plt\n",
        "crime = []\n",
        "for sample in train_data:\n",
        "  crime.append(sample[0])\n",
        "\n",
        "plt.plot(train_targets, crime, 'bo', label='crime')\n"
      ]
    },
    {
      "cell_type": "code",
      "execution_count": null,
      "metadata": {
        "colab": {
          "base_uri": "https://localhost:8080/",
          "height": 282
        },
        "id": "hx9oUMsVpOUN",
        "outputId": "ec5c16c8-2122-4c32-f311-a56f1a51fe55"
      },
      "outputs": [
        {
          "data": {
            "text/plain": [
              "[<matplotlib.lines.Line2D at 0x7f6ade8ccf90>]"
            ]
          },
          "execution_count": 3,
          "metadata": {},
          "output_type": "execute_result"
        },
        {
          "data": {
            "image/png": "[encoded data removed]",
            "text/plain": [
              "<Figure size 432x288 with 1 Axes>"
            ]
          },
          "metadata": {
            "needs_background": "light"
          },
          "output_type": "display_data"
        }
      ],
      "source": [
        "#plotting the second variable; \"Proportion of residential land zoned for lots over 25,000 sq.ft.\"\n",
        "resland = []\n",
        "for sample in train_data:\n",
        "  resland.append(sample[1])\n",
        "\n",
        "plt.plot(train_targets, resland, 'bo', label='resland')"
      ]
    },
    {
      "cell_type": "code",
      "execution_count": null,
      "metadata": {
        "colab": {
          "base_uri": "https://localhost:8080/",
          "height": 282
        },
        "id": "XuVT-eJepiG7",
        "outputId": "8899fd8a-1508-4212-b8da-ed47aea788b3"
      },
      "outputs": [
        {
          "data": {
            "text/plain": [
              "[<matplotlib.lines.Line2D at 0x7f6ade84b790>]"
            ]
          },
          "execution_count": 4,
          "metadata": {},
          "output_type": "execute_result"
        },
        {
          "data": {
            "image/png": "[encoded data removed]",
            "text/plain": [
              "<Figure size 432x288 with 1 Axes>"
            ]
          },
          "metadata": {
            "needs_background": "light"
          },
          "output_type": "display_data"
        }
      ],
      "source": [
        "#plotting the third variable; \"Proportion of non-retail business acres per town\"\n",
        "nonretail = []\n",
        "for sample in train_data:\n",
        "  nonretail.append(sample[2])\n",
        "\n",
        "plt.plot(train_targets, nonretail, 'bo', label='nonretail')"
      ]
    },
    {
      "cell_type": "markdown",
      "metadata": {
        "id": "wEaQoJj4p7Gl"
      },
      "source": [
        "###is data missing?"
      ]
    },
    {
      "cell_type": "code",
      "execution_count": null,
      "metadata": {
        "colab": {
          "base_uri": "https://localhost:8080/"
        },
        "id": "b3TLbA7Op96x",
        "outputId": "4e527950-edd5-40db-8cb0-e6c72527b5e4"
      },
      "outputs": [
        {
          "data": {
            "text/plain": [
              "0     False\n",
              "1     False\n",
              "2     False\n",
              "3     False\n",
              "4     False\n",
              "5     False\n",
              "6     False\n",
              "7     False\n",
              "8     False\n",
              "9     False\n",
              "10    False\n",
              "11    False\n",
              "12    False\n",
              "dtype: bool"
            ]
          },
          "execution_count": 5,
          "metadata": {},
          "output_type": "execute_result"
        }
      ],
      "source": [
        "import pandas as pd\n",
        "df = pd.DataFrame(train_data)\n",
        "df.isnull().any()"
      ]
    },
    {
      "cell_type": "code",
      "execution_count": null,
      "metadata": {
        "colab": {
          "base_uri": "https://localhost:8080/"
        },
        "id": "2w-PBFp8qU-J",
        "outputId": "4f3a9cc2-dd7b-4325-eb48-bfe732767da2"
      },
      "outputs": [
        {
          "data": {
            "text/plain": [
              "0    False\n",
              "dtype: bool"
            ]
          },
          "execution_count": 6,
          "metadata": {},
          "output_type": "execute_result"
        }
      ],
      "source": [
        "df = pd.DataFrame(train_targets)\n",
        "df.isnull().any()"
      ]
    },
    {
      "cell_type": "markdown",
      "metadata": {
        "id": "CEuPg6dhjVNf"
      },
      "source": [
        "#methodology"
      ]
    },
    {
      "cell_type": "markdown",
      "metadata": {
        "id": "J-S2j-hIrh_Q"
      },
      "source": [
        "Off of what I have learnt in my time studying with *Deep Learning in Python*. My first guess to solve this problem would be to compile a: Sequential model, full of dense layers of 13 units (with the final layer having one unit for predicting the house price). We will use ReLU activation functions to try and eliminate < 0 (incorrect) predictions, we will use a MSE loss function as these are most common in regression problems, and we will make use of an 'rmsprop' optimiser as this is what is most often reccomended in *Deep Learning with Python*"
      ]
    },
    {
      "cell_type": "markdown",
      "metadata": {
        "id": "_uQSV6Z_t_70"
      },
      "source": [
        "##pre processing our data"
      ]
    },
    {
      "cell_type": "markdown",
      "metadata": {
        "id": "jZ899mL9uCOE"
      },
      "source": [
        "It is very important to normalise our data, as deep learning models tend not to perform well on datasets where the features are of larger ranges, so it is important to rescale these."
      ]
    },
    {
      "cell_type": "code",
      "execution_count": null,
      "metadata": {
        "id": "yZFXeJnBuSaR"
      },
      "outputs": [],
      "source": [
        "mean = train_data.mean(axis = 0)\n",
        "train_data -= mean # shift\n",
        "std = train_data.std(axis = 0)\n",
        "train_data /= std # rescale\n",
        "\n",
        "test_data -= mean\n",
        "test_data /= std"
      ]
    },
    {
      "cell_type": "markdown",
      "metadata": {
        "id": "QmEQH6K0uVSW"
      },
      "source": [
        "Code: \"lab-5-BOSTON.ipynb\" - Jérémie Wenger IS53024B/IS53024S/IS71039A: Artificial Intelligence (2022-23)\n",
        "\n"
      ]
    },
    {
      "cell_type": "markdown",
      "metadata": {
        "id": "U-F9N7Vxt7di"
      },
      "source": [
        "##building our model"
      ]
    },
    {
      "cell_type": "markdown",
      "metadata": {
        "id": "RkzBK56V0sdA"
      },
      "source": [
        "###first attempt"
      ]
    },
    {
      "cell_type": "code",
      "execution_count": null,
      "metadata": {
        "colab": {
          "base_uri": "https://localhost:8080/"
        },
        "id": "yvh97-hRjWSW",
        "outputId": "1535fe36-2177-49e9-b24f-0928e5154c08"
      },
      "outputs": [
        {
          "name": "stdout",
          "output_type": "stream",
          "text": [
            "Epoch 1/150\n",
            "11/11 [==============================] - 1s 24ms/step - loss: 538.8337 - mae: 21.3638 - val_loss: 609.7438 - val_mae: 22.9206\n",
            "Epoch 2/150\n",
            "11/11 [==============================] - 0s 7ms/step - loss: 529.5629 - mae: 21.1754 - val_loss: 601.6490 - val_mae: 22.7593\n",
            "Epoch 3/150\n",
            "11/11 [==============================] - 0s 8ms/step - loss: 521.9777 - mae: 21.0180 - val_loss: 593.6563 - val_mae: 22.5975\n",
            "Epoch 4/150\n",
            "11/11 [==============================] - 0s 7ms/step - loss: 514.0903 - mae: 20.8555 - val_loss: 585.6711 - val_mae: 22.4335\n",
            "Epoch 5/150\n",
            "11/11 [==============================] - 0s 5ms/step - loss: 506.1411 - mae: 20.6903 - val_loss: 578.4927 - val_mae: 22.2800\n",
            "Epoch 6/150\n",
            "11/11 [==============================] - 0s 7ms/step - loss: 498.6139 - mae: 20.5268 - val_loss: 570.0271 - val_mae: 22.1010\n",
            "Epoch 7/150\n",
            "11/11 [==============================] - 0s 7ms/step - loss: 490.0331 - mae: 20.3428 - val_loss: 560.8096 - val_mae: 21.9052\n",
            "Epoch 8/150\n",
            "11/11 [==============================] - 0s 6ms/step - loss: 480.9878 - mae: 20.1465 - val_loss: 552.4185 - val_mae: 21.7216\n",
            "Epoch 9/150\n",
            "11/11 [==============================] - 0s 7ms/step - loss: 472.6902 - mae: 19.9641 - val_loss: 543.4764 - val_mae: 21.5298\n",
            "Epoch 10/150\n",
            "11/11 [==============================] - 0s 7ms/step - loss: 463.8262 - mae: 19.7661 - val_loss: 533.2955 - val_mae: 21.3071\n",
            "Epoch 11/150\n",
            "11/11 [==============================] - 0s 4ms/step - loss: 454.0589 - mae: 19.5513 - val_loss: 524.3415 - val_mae: 21.1060\n",
            "Epoch 12/150\n",
            "11/11 [==============================] - 0s 4ms/step - loss: 445.0760 - mae: 19.3455 - val_loss: 514.2216 - val_mae: 20.8776\n",
            "Epoch 13/150\n",
            "11/11 [==============================] - 0s 4ms/step - loss: 435.2507 - mae: 19.1175 - val_loss: 504.3829 - val_mae: 20.6503\n",
            "Epoch 14/150\n",
            "11/11 [==============================] - 0s 4ms/step - loss: 425.4282 - mae: 18.8873 - val_loss: 493.2726 - val_mae: 20.3910\n",
            "Epoch 15/150\n",
            "11/11 [==============================] - 0s 4ms/step - loss: 415.0350 - mae: 18.6359 - val_loss: 483.6878 - val_mae: 20.1604\n",
            "Epoch 16/150\n",
            "11/11 [==============================] - 0s 4ms/step - loss: 405.3250 - mae: 18.3967 - val_loss: 473.0338 - val_mae: 19.9021\n",
            "Epoch 17/150\n",
            "11/11 [==============================] - 0s 4ms/step - loss: 395.0941 - mae: 18.1425 - val_loss: 462.1297 - val_mae: 19.6358\n",
            "Epoch 18/150\n",
            "11/11 [==============================] - 0s 4ms/step - loss: 384.6010 - mae: 17.8773 - val_loss: 450.7043 - val_mae: 19.3476\n",
            "Epoch 19/150\n",
            "11/11 [==============================] - 0s 4ms/step - loss: 373.8190 - mae: 17.6000 - val_loss: 440.5314 - val_mae: 19.0846\n",
            "Epoch 20/150\n",
            "11/11 [==============================] - 0s 6ms/step - loss: 363.8396 - mae: 17.3305 - val_loss: 429.6992 - val_mae: 18.8019\n",
            "Epoch 21/150\n",
            "11/11 [==============================] - 0s 6ms/step - loss: 353.4004 - mae: 17.0422 - val_loss: 418.6317 - val_mae: 18.5042\n",
            "Epoch 22/150\n",
            "11/11 [==============================] - 0s 6ms/step - loss: 342.9131 - mae: 16.7499 - val_loss: 408.1430 - val_mae: 18.2149\n",
            "Epoch 23/150\n",
            "11/11 [==============================] - 0s 4ms/step - loss: 332.9125 - mae: 16.4642 - val_loss: 397.0180 - val_mae: 17.9019\n",
            "Epoch 24/150\n",
            "11/11 [==============================] - 0s 4ms/step - loss: 322.4932 - mae: 16.1594 - val_loss: 386.4133 - val_mae: 17.5957\n",
            "Epoch 25/150\n",
            "11/11 [==============================] - 0s 4ms/step - loss: 312.2739 - mae: 15.8533 - val_loss: 373.9520 - val_mae: 17.2288\n",
            "Epoch 26/150\n",
            "11/11 [==============================] - 0s 4ms/step - loss: 301.6395 - mae: 15.5199 - val_loss: 364.5141 - val_mae: 16.9421\n",
            "Epoch 27/150\n",
            "11/11 [==============================] - 0s 4ms/step - loss: 292.4409 - mae: 15.2305 - val_loss: 353.8209 - val_mae: 16.6105\n",
            "Epoch 28/150\n",
            "11/11 [==============================] - 0s 4ms/step - loss: 282.5419 - mae: 14.9074 - val_loss: 343.2186 - val_mae: 16.2665\n",
            "Epoch 29/150\n",
            "11/11 [==============================] - 0s 4ms/step - loss: 272.8842 - mae: 14.5756 - val_loss: 333.7002 - val_mae: 15.9490\n",
            "Epoch 30/150\n",
            "11/11 [==============================] - 0s 4ms/step - loss: 263.7154 - mae: 14.2628 - val_loss: 322.5265 - val_mae: 15.5729\n",
            "Epoch 31/150\n",
            "11/11 [==============================] - 0s 6ms/step - loss: 253.8293 - mae: 13.9155 - val_loss: 313.0118 - val_mae: 15.2353\n",
            "Epoch 32/150\n",
            "11/11 [==============================] - 0s 4ms/step - loss: 245.0290 - mae: 13.6064 - val_loss: 303.3831 - val_mae: 14.8903\n",
            "Epoch 33/150\n",
            "11/11 [==============================] - 0s 4ms/step - loss: 236.1586 - mae: 13.2941 - val_loss: 292.9111 - val_mae: 14.5113\n",
            "Epoch 34/150\n",
            "11/11 [==============================] - 0s 6ms/step - loss: 227.1024 - mae: 12.9665 - val_loss: 283.9284 - val_mae: 14.1824\n",
            "Epoch 35/150\n",
            "11/11 [==============================] - 0s 5ms/step - loss: 218.9439 - mae: 12.6694 - val_loss: 275.2179 - val_mae: 13.8647\n",
            "Epoch 36/150\n",
            "11/11 [==============================] - 0s 4ms/step - loss: 211.0592 - mae: 12.3770 - val_loss: 266.0851 - val_mae: 13.5237\n",
            "Epoch 37/150\n",
            "11/11 [==============================] - 0s 4ms/step - loss: 203.1823 - mae: 12.0686 - val_loss: 256.9476 - val_mae: 13.2023\n",
            "Epoch 38/150\n",
            "11/11 [==============================] - 0s 4ms/step - loss: 195.3106 - mae: 11.7724 - val_loss: 247.9681 - val_mae: 12.8801\n",
            "Epoch 39/150\n",
            "11/11 [==============================] - 0s 4ms/step - loss: 187.8020 - mae: 11.4923 - val_loss: 240.3152 - val_mae: 12.6033\n",
            "Epoch 40/150\n",
            "11/11 [==============================] - 0s 4ms/step - loss: 181.0638 - mae: 11.2263 - val_loss: 232.0001 - val_mae: 12.3142\n",
            "Epoch 41/150\n",
            "11/11 [==============================] - 0s 4ms/step - loss: 173.9918 - mae: 10.9468 - val_loss: 223.7006 - val_mae: 12.0190\n",
            "Epoch 42/150\n",
            "11/11 [==============================] - 0s 4ms/step - loss: 167.3606 - mae: 10.6828 - val_loss: 217.4152 - val_mae: 11.8027\n",
            "Epoch 43/150\n",
            "11/11 [==============================] - 0s 4ms/step - loss: 161.5521 - mae: 10.4435 - val_loss: 210.0633 - val_mae: 11.5595\n",
            "Epoch 44/150\n",
            "11/11 [==============================] - 0s 4ms/step - loss: 155.4948 - mae: 10.1934 - val_loss: 203.3696 - val_mae: 11.3228\n",
            "Epoch 45/150\n",
            "11/11 [==============================] - 0s 4ms/step - loss: 149.6712 - mae: 9.9547 - val_loss: 196.6789 - val_mae: 11.0940\n",
            "Epoch 46/150\n",
            "11/11 [==============================] - 0s 4ms/step - loss: 144.0174 - mae: 9.7149 - val_loss: 189.7000 - val_mae: 10.8559\n",
            "Epoch 47/150\n",
            "11/11 [==============================] - 0s 4ms/step - loss: 138.3598 - mae: 9.4703 - val_loss: 183.1826 - val_mae: 10.6320\n",
            "Epoch 48/150\n",
            "11/11 [==============================] - 0s 4ms/step - loss: 133.0510 - mae: 9.2303 - val_loss: 177.1956 - val_mae: 10.4204\n",
            "Epoch 49/150\n",
            "11/11 [==============================] - 0s 5ms/step - loss: 128.0484 - mae: 9.0031 - val_loss: 170.8621 - val_mae: 10.1979\n",
            "Epoch 50/150\n",
            "11/11 [==============================] - 0s 4ms/step - loss: 123.1188 - mae: 8.7748 - val_loss: 166.1949 - val_mae: 10.0269\n",
            "Epoch 51/150\n",
            "11/11 [==============================] - 0s 4ms/step - loss: 119.3204 - mae: 8.6044 - val_loss: 161.1201 - val_mae: 9.8310\n",
            "Epoch 52/150\n",
            "11/11 [==============================] - 0s 4ms/step - loss: 115.1148 - mae: 8.4067 - val_loss: 156.6599 - val_mae: 9.6669\n",
            "Epoch 53/150\n",
            "11/11 [==============================] - 0s 4ms/step - loss: 111.3667 - mae: 8.2361 - val_loss: 151.8257 - val_mae: 9.4827\n",
            "Epoch 54/150\n",
            "11/11 [==============================] - 0s 4ms/step - loss: 107.4256 - mae: 8.0520 - val_loss: 146.7284 - val_mae: 9.2903\n",
            "Epoch 55/150\n",
            "11/11 [==============================] - 0s 4ms/step - loss: 103.3259 - mae: 7.8593 - val_loss: 141.5001 - val_mae: 9.0815\n",
            "Epoch 56/150\n",
            "11/11 [==============================] - 0s 4ms/step - loss: 99.3009 - mae: 7.6621 - val_loss: 137.3053 - val_mae: 8.9138\n",
            "Epoch 57/150\n",
            "11/11 [==============================] - 0s 5ms/step - loss: 95.7916 - mae: 7.4971 - val_loss: 132.3669 - val_mae: 8.7102\n",
            "Epoch 58/150\n",
            "11/11 [==============================] - 0s 5ms/step - loss: 92.0131 - mae: 7.3071 - val_loss: 128.2139 - val_mae: 8.5426\n",
            "Epoch 59/150\n",
            "11/11 [==============================] - 0s 7ms/step - loss: 88.6184 - mae: 7.1493 - val_loss: 124.1829 - val_mae: 8.3853\n",
            "Epoch 60/150\n",
            "11/11 [==============================] - 0s 4ms/step - loss: 85.3405 - mae: 6.9865 - val_loss: 120.0376 - val_mae: 8.2208\n",
            "Epoch 61/150\n",
            "11/11 [==============================] - 0s 4ms/step - loss: 82.0990 - mae: 6.8233 - val_loss: 116.2444 - val_mae: 8.0720\n",
            "Epoch 62/150\n",
            "11/11 [==============================] - 0s 5ms/step - loss: 79.0253 - mae: 6.6709 - val_loss: 112.0775 - val_mae: 7.9126\n",
            "Epoch 63/150\n",
            "11/11 [==============================] - 0s 4ms/step - loss: 75.8805 - mae: 6.5004 - val_loss: 108.3930 - val_mae: 7.7748\n",
            "Epoch 64/150\n",
            "11/11 [==============================] - 0s 4ms/step - loss: 72.9965 - mae: 6.3458 - val_loss: 104.1075 - val_mae: 7.6075\n",
            "Epoch 65/150\n",
            "11/11 [==============================] - 0s 5ms/step - loss: 70.1360 - mae: 6.1898 - val_loss: 100.8870 - val_mae: 7.4759\n",
            "Epoch 66/150\n",
            "11/11 [==============================] - 0s 4ms/step - loss: 67.7072 - mae: 6.0467 - val_loss: 97.7203 - val_mae: 7.3423\n",
            "Epoch 67/150\n",
            "11/11 [==============================] - 0s 6ms/step - loss: 65.3784 - mae: 5.9133 - val_loss: 95.0218 - val_mae: 7.2310\n",
            "Epoch 68/150\n",
            "11/11 [==============================] - 0s 6ms/step - loss: 63.2087 - mae: 5.7882 - val_loss: 92.2643 - val_mae: 7.1209\n",
            "Epoch 69/150\n",
            "11/11 [==============================] - 0s 6ms/step - loss: 61.0797 - mae: 5.6560 - val_loss: 89.3869 - val_mae: 7.0022\n",
            "Epoch 70/150\n",
            "11/11 [==============================] - 0s 4ms/step - loss: 59.0706 - mae: 5.5377 - val_loss: 86.1248 - val_mae: 6.8625\n",
            "Epoch 71/150\n",
            "11/11 [==============================] - 0s 4ms/step - loss: 56.9796 - mae: 5.4095 - val_loss: 83.7798 - val_mae: 6.7611\n",
            "Epoch 72/150\n",
            "11/11 [==============================] - 0s 4ms/step - loss: 55.3265 - mae: 5.2977 - val_loss: 81.5311 - val_mae: 6.6628\n",
            "Epoch 73/150\n",
            "11/11 [==============================] - 0s 4ms/step - loss: 53.7036 - mae: 5.1995 - val_loss: 78.8915 - val_mae: 6.5428\n",
            "Epoch 74/150\n",
            "11/11 [==============================] - 0s 4ms/step - loss: 51.9744 - mae: 5.0811 - val_loss: 76.1128 - val_mae: 6.4087\n",
            "Epoch 75/150\n",
            "11/11 [==============================] - 0s 6ms/step - loss: 50.1995 - mae: 4.9639 - val_loss: 73.7722 - val_mae: 6.3006\n",
            "Epoch 76/150\n",
            "11/11 [==============================] - 0s 6ms/step - loss: 48.7206 - mae: 4.8601 - val_loss: 71.3480 - val_mae: 6.1876\n",
            "Epoch 77/150\n",
            "11/11 [==============================] - 0s 4ms/step - loss: 47.3066 - mae: 4.7565 - val_loss: 68.8892 - val_mae: 6.0751\n",
            "Epoch 78/150\n",
            "11/11 [==============================] - 0s 5ms/step - loss: 46.0035 - mae: 4.6661 - val_loss: 66.6810 - val_mae: 5.9625\n",
            "Epoch 79/150\n",
            "11/11 [==============================] - 0s 4ms/step - loss: 44.8167 - mae: 4.5799 - val_loss: 64.7091 - val_mae: 5.8595\n",
            "Epoch 80/150\n",
            "11/11 [==============================] - 0s 4ms/step - loss: 43.6923 - mae: 4.4849 - val_loss: 62.8078 - val_mae: 5.7645\n",
            "Epoch 81/150\n",
            "11/11 [==============================] - 0s 4ms/step - loss: 42.7642 - mae: 4.4203 - val_loss: 61.3992 - val_mae: 5.6914\n",
            "Epoch 82/150\n",
            "11/11 [==============================] - 0s 4ms/step - loss: 42.0776 - mae: 4.3630 - val_loss: 60.0736 - val_mae: 5.6216\n",
            "Epoch 83/150\n",
            "11/11 [==============================] - 0s 7ms/step - loss: 41.3365 - mae: 4.3063 - val_loss: 58.5804 - val_mae: 5.5431\n",
            "Epoch 84/150\n",
            "11/11 [==============================] - 0s 6ms/step - loss: 40.5935 - mae: 4.2579 - val_loss: 56.8174 - val_mae: 5.4424\n",
            "Epoch 85/150\n",
            "11/11 [==============================] - 0s 6ms/step - loss: 39.7625 - mae: 4.1938 - val_loss: 55.3226 - val_mae: 5.3541\n",
            "Epoch 86/150\n",
            "11/11 [==============================] - 0s 4ms/step - loss: 39.0141 - mae: 4.1420 - val_loss: 53.7461 - val_mae: 5.2574\n",
            "Epoch 87/150\n",
            "11/11 [==============================] - 0s 4ms/step - loss: 38.3239 - mae: 4.1010 - val_loss: 52.8849 - val_mae: 5.2073\n",
            "Epoch 88/150\n",
            "11/11 [==============================] - 0s 4ms/step - loss: 37.8801 - mae: 4.0607 - val_loss: 51.7498 - val_mae: 5.1357\n",
            "Epoch 89/150\n",
            "11/11 [==============================] - 0s 4ms/step - loss: 37.3348 - mae: 4.0254 - val_loss: 50.5608 - val_mae: 5.0600\n",
            "Epoch 90/150\n",
            "11/11 [==============================] - 0s 5ms/step - loss: 36.8004 - mae: 3.9869 - val_loss: 49.3733 - val_mae: 4.9887\n",
            "Epoch 91/150\n",
            "11/11 [==============================] - 0s 4ms/step - loss: 36.3037 - mae: 3.9421 - val_loss: 48.1803 - val_mae: 4.9172\n",
            "Epoch 92/150\n",
            "11/11 [==============================] - 0s 4ms/step - loss: 35.7849 - mae: 3.9150 - val_loss: 47.0762 - val_mae: 4.8518\n",
            "Epoch 93/150\n",
            "11/11 [==============================] - 0s 4ms/step - loss: 35.3621 - mae: 3.8795 - val_loss: 46.3731 - val_mae: 4.8087\n",
            "Epoch 94/150\n",
            "11/11 [==============================] - 0s 6ms/step - loss: 34.9230 - mae: 3.8497 - val_loss: 45.4586 - val_mae: 4.7503\n",
            "Epoch 95/150\n",
            "11/11 [==============================] - 0s 4ms/step - loss: 34.5411 - mae: 3.8351 - val_loss: 44.7949 - val_mae: 4.7026\n",
            "Epoch 96/150\n",
            "11/11 [==============================] - 0s 4ms/step - loss: 34.1844 - mae: 3.8170 - val_loss: 44.2277 - val_mae: 4.6686\n",
            "Epoch 97/150\n",
            "11/11 [==============================] - 0s 4ms/step - loss: 33.9111 - mae: 3.7930 - val_loss: 43.5432 - val_mae: 4.6200\n",
            "Epoch 98/150\n",
            "11/11 [==============================] - 0s 4ms/step - loss: 33.5912 - mae: 3.7811 - val_loss: 42.9931 - val_mae: 4.5901\n",
            "Epoch 99/150\n",
            "11/11 [==============================] - 0s 4ms/step - loss: 33.2425 - mae: 3.7542 - val_loss: 42.4561 - val_mae: 4.5626\n",
            "Epoch 100/150\n",
            "11/11 [==============================] - 0s 4ms/step - loss: 32.9919 - mae: 3.7427 - val_loss: 41.8124 - val_mae: 4.5250\n",
            "Epoch 101/150\n",
            "11/11 [==============================] - 0s 4ms/step - loss: 32.6609 - mae: 3.7123 - val_loss: 41.2567 - val_mae: 4.4963\n",
            "Epoch 102/150\n",
            "11/11 [==============================] - 0s 6ms/step - loss: 32.3982 - mae: 3.7028 - val_loss: 40.5835 - val_mae: 4.4599\n",
            "Epoch 103/150\n",
            "11/11 [==============================] - 0s 6ms/step - loss: 32.0137 - mae: 3.6778 - val_loss: 39.7758 - val_mae: 4.4178\n",
            "Epoch 104/150\n",
            "11/11 [==============================] - 0s 6ms/step - loss: 31.6798 - mae: 3.6735 - val_loss: 39.4876 - val_mae: 4.4032\n",
            "Epoch 105/150\n",
            "11/11 [==============================] - 0s 5ms/step - loss: 31.4842 - mae: 3.6537 - val_loss: 39.1394 - val_mae: 4.3844\n",
            "Epoch 106/150\n",
            "11/11 [==============================] - 0s 4ms/step - loss: 31.2359 - mae: 3.6438 - val_loss: 38.8385 - val_mae: 4.3700\n",
            "Epoch 107/150\n",
            "11/11 [==============================] - 0s 6ms/step - loss: 31.0254 - mae: 3.6245 - val_loss: 38.4283 - val_mae: 4.3485\n",
            "Epoch 108/150\n",
            "11/11 [==============================] - 0s 4ms/step - loss: 30.8065 - mae: 3.6139 - val_loss: 38.0123 - val_mae: 4.3248\n",
            "Epoch 109/150\n",
            "11/11 [==============================] - 0s 4ms/step - loss: 30.5525 - mae: 3.5969 - val_loss: 37.5626 - val_mae: 4.3045\n",
            "Epoch 110/150\n",
            "11/11 [==============================] - 0s 6ms/step - loss: 30.2778 - mae: 3.5783 - val_loss: 37.0906 - val_mae: 4.2855\n",
            "Epoch 111/150\n",
            "11/11 [==============================] - 0s 4ms/step - loss: 29.9988 - mae: 3.5752 - val_loss: 36.5469 - val_mae: 4.2539\n",
            "Epoch 112/150\n",
            "11/11 [==============================] - 0s 5ms/step - loss: 29.7701 - mae: 3.5566 - val_loss: 36.0524 - val_mae: 4.2290\n",
            "Epoch 113/150\n",
            "11/11 [==============================] - 0s 4ms/step - loss: 29.4855 - mae: 3.5393 - val_loss: 35.4933 - val_mae: 4.2176\n",
            "Epoch 114/150\n",
            "11/11 [==============================] - 0s 4ms/step - loss: 29.1859 - mae: 3.5330 - val_loss: 35.2265 - val_mae: 4.2110\n",
            "Epoch 115/150\n",
            "11/11 [==============================] - 0s 4ms/step - loss: 28.9522 - mae: 3.5241 - val_loss: 34.8806 - val_mae: 4.1983\n",
            "Epoch 116/150\n",
            "11/11 [==============================] - 0s 4ms/step - loss: 28.7561 - mae: 3.5130 - val_loss: 34.4770 - val_mae: 4.1751\n",
            "Epoch 117/150\n",
            "11/11 [==============================] - 0s 4ms/step - loss: 28.4988 - mae: 3.4989 - val_loss: 34.1096 - val_mae: 4.1504\n",
            "Epoch 118/150\n",
            "11/11 [==============================] - 0s 6ms/step - loss: 28.2639 - mae: 3.4764 - val_loss: 33.5620 - val_mae: 4.1276\n",
            "Epoch 119/150\n",
            "11/11 [==============================] - 0s 6ms/step - loss: 27.9850 - mae: 3.4576 - val_loss: 33.1264 - val_mae: 4.1155\n",
            "Epoch 120/150\n",
            "11/11 [==============================] - 0s 4ms/step - loss: 27.7232 - mae: 3.4489 - val_loss: 32.7743 - val_mae: 4.0884\n",
            "Epoch 121/150\n",
            "11/11 [==============================] - 0s 4ms/step - loss: 27.5111 - mae: 3.4238 - val_loss: 32.4826 - val_mae: 4.0782\n",
            "Epoch 122/150\n",
            "11/11 [==============================] - 0s 4ms/step - loss: 27.3098 - mae: 3.4105 - val_loss: 32.2443 - val_mae: 4.0841\n",
            "Epoch 123/150\n",
            "11/11 [==============================] - 0s 4ms/step - loss: 27.1114 - mae: 3.4138 - val_loss: 31.9232 - val_mae: 4.0622\n",
            "Epoch 124/150\n",
            "11/11 [==============================] - 0s 4ms/step - loss: 26.8875 - mae: 3.4001 - val_loss: 31.4931 - val_mae: 4.0371\n",
            "Epoch 125/150\n",
            "11/11 [==============================] - 0s 4ms/step - loss: 26.6825 - mae: 3.3741 - val_loss: 31.1126 - val_mae: 4.0237\n",
            "Epoch 126/150\n",
            "11/11 [==============================] - 0s 4ms/step - loss: 26.4731 - mae: 3.3627 - val_loss: 30.6603 - val_mae: 4.0099\n",
            "Epoch 127/150\n",
            "11/11 [==============================] - 0s 4ms/step - loss: 26.2225 - mae: 3.3528 - val_loss: 30.5898 - val_mae: 4.0035\n",
            "Epoch 128/150\n",
            "11/11 [==============================] - 0s 6ms/step - loss: 26.1054 - mae: 3.3538 - val_loss: 30.4223 - val_mae: 3.9851\n",
            "Epoch 129/150\n",
            "11/11 [==============================] - 0s 4ms/step - loss: 25.9584 - mae: 3.3304 - val_loss: 30.2614 - val_mae: 3.9732\n",
            "Epoch 130/150\n",
            "11/11 [==============================] - 0s 5ms/step - loss: 25.8002 - mae: 3.3185 - val_loss: 30.1299 - val_mae: 3.9821\n",
            "Epoch 131/150\n",
            "11/11 [==============================] - 0s 4ms/step - loss: 25.5979 - mae: 3.3175 - val_loss: 29.9241 - val_mae: 3.9690\n",
            "Epoch 132/150\n",
            "11/11 [==============================] - 0s 4ms/step - loss: 25.4418 - mae: 3.3080 - val_loss: 29.5845 - val_mae: 3.9469\n",
            "Epoch 133/150\n",
            "11/11 [==============================] - 0s 4ms/step - loss: 25.2588 - mae: 3.2907 - val_loss: 29.4100 - val_mae: 3.9354\n",
            "Epoch 134/150\n",
            "11/11 [==============================] - 0s 4ms/step - loss: 25.0340 - mae: 3.2698 - val_loss: 29.1004 - val_mae: 3.9184\n",
            "Epoch 135/150\n",
            "11/11 [==============================] - 0s 4ms/step - loss: 24.8679 - mae: 3.2635 - val_loss: 28.7528 - val_mae: 3.9109\n",
            "Epoch 136/150\n",
            "11/11 [==============================] - 0s 4ms/step - loss: 24.6689 - mae: 3.2601 - val_loss: 28.4795 - val_mae: 3.8960\n",
            "Epoch 137/150\n",
            "11/11 [==============================] - 0s 5ms/step - loss: 24.4203 - mae: 3.2439 - val_loss: 28.2179 - val_mae: 3.8724\n",
            "Epoch 138/150\n",
            "11/11 [==============================] - 0s 4ms/step - loss: 24.2583 - mae: 3.2287 - val_loss: 28.0174 - val_mae: 3.8586\n",
            "Epoch 139/150\n",
            "11/11 [==============================] - 0s 4ms/step - loss: 24.0112 - mae: 3.2123 - val_loss: 27.8555 - val_mae: 3.8670\n",
            "Epoch 140/150\n",
            "11/11 [==============================] - 0s 4ms/step - loss: 23.8012 - mae: 3.2127 - val_loss: 27.5495 - val_mae: 3.8539\n",
            "Epoch 141/150\n",
            "11/11 [==============================] - 0s 6ms/step - loss: 23.5754 - mae: 3.1973 - val_loss: 27.2554 - val_mae: 3.8364\n",
            "Epoch 142/150\n",
            "11/11 [==============================] - 0s 4ms/step - loss: 23.3633 - mae: 3.1798 - val_loss: 26.9144 - val_mae: 3.8218\n",
            "Epoch 143/150\n",
            "11/11 [==============================] - 0s 4ms/step - loss: 23.1613 - mae: 3.1775 - val_loss: 26.5783 - val_mae: 3.8018\n",
            "Epoch 144/150\n",
            "11/11 [==============================] - 0s 4ms/step - loss: 22.8828 - mae: 3.1573 - val_loss: 26.3504 - val_mae: 3.7858\n",
            "Epoch 145/150\n",
            "11/11 [==============================] - 0s 4ms/step - loss: 22.7294 - mae: 3.1517 - val_loss: 26.1498 - val_mae: 3.7537\n",
            "Epoch 146/150\n",
            "11/11 [==============================] - 0s 4ms/step - loss: 22.5124 - mae: 3.1243 - val_loss: 25.9132 - val_mae: 3.7365\n",
            "Epoch 147/150\n",
            "11/11 [==============================] - 0s 6ms/step - loss: 22.3147 - mae: 3.1058 - val_loss: 25.6691 - val_mae: 3.7294\n",
            "Epoch 148/150\n",
            "11/11 [==============================] - 0s 4ms/step - loss: 22.1110 - mae: 3.0995 - val_loss: 25.4193 - val_mae: 3.7208\n",
            "Epoch 149/150\n",
            "11/11 [==============================] - 0s 5ms/step - loss: 21.9363 - mae: 3.0887 - val_loss: 25.1371 - val_mae: 3.7123\n",
            "Epoch 150/150\n",
            "11/11 [==============================] - 0s 4ms/step - loss: 21.6771 - mae: 3.0856 - val_loss: 25.0013 - val_mae: 3.6974\n"
          ]
        }
      ],
      "source": [
        "from tensorflow.keras import models\n",
        "from tensorflow.keras import layers\n",
        "\n",
        "model = models.Sequential()\n",
        "model.add(layers.Dense(13, input_dim = 13, activation='relu'))\n",
        "model.add(layers.Dense(1, activation='linear'))\n",
        "\n",
        "model.compile(\n",
        "    optimizer='rmsprop',\n",
        "    loss='mse',\n",
        "    metrics=['mae']\n",
        ")\n",
        "\n",
        "# train\n",
        "history=model.fit(\n",
        "    train_data,\n",
        "    train_targets,\n",
        "    epochs=150,\n",
        "    batch_size=32,\n",
        "    validation_split=0.2\n",
        ")"
      ]
    },
    {
      "cell_type": "code",
      "execution_count": null,
      "metadata": {
        "colab": {
          "base_uri": "https://localhost:8080/",
          "height": 279
        },
        "id": "PK-ide7vxtSm",
        "outputId": "d0fbfa1e-ffd0-49e6-c2a1-69cd335853c3"
      },
      "outputs": [
        {
          "data": {
            "image/png": "[encoded data removed]",
            "text/plain": [
              "<Figure size 432x288 with 1 Axes>"
            ]
          },
          "metadata": {
            "needs_background": "light"
          },
          "output_type": "display_data"
        }
      ],
      "source": [
        "import numpy as np\n",
        "import matplotlib.pyplot as plt\n",
        "\n",
        "plt.plot(range(1, len(history.history['val_mae']) + 1), history.history['val_mae'])\n",
        "plt.xlabel('Epochs')\n",
        "plt.ylabel('Validation MAE')\n",
        "plt.show()"
      ]
    },
    {
      "cell_type": "code",
      "execution_count": null,
      "metadata": {
        "colab": {
          "base_uri": "https://localhost:8080/",
          "height": 279
        },
        "id": "sH9ziBWa0Nrv",
        "outputId": "70b314b8-83c8-4528-ad31-cbe5bf2511d5"
      },
      "outputs": [
        {
          "data": {
            "image/png": "[encoded data removed]",
            "text/plain": [
              "<Figure size 432x288 with 1 Axes>"
            ]
          },
          "metadata": {
            "needs_background": "light"
          },
          "output_type": "display_data"
        }
      ],
      "source": [
        "plt.plot(range(1, len(history.history['loss']) + 1), history.history['loss'])\n",
        "plt.xlabel('Epochs')\n",
        "plt.ylabel('Loss')\n",
        "plt.show()\n"
      ]
    },
    {
      "cell_type": "markdown",
      "metadata": {
        "id": "LWav6mir0wGg"
      },
      "source": [
        "Great! We can see here our model is sucessfully fitting however it appears that either our model could be made stronger or, we should allow it to train for more epochs, I will do both here."
      ]
    },
    {
      "cell_type": "markdown",
      "metadata": {
        "id": "FSTkmjRA40cB"
      },
      "source": [
        "###second attempt"
      ]
    },
    {
      "cell_type": "code",
      "execution_count": null,
      "metadata": {
        "colab": {
          "base_uri": "https://localhost:8080/"
        },
        "id": "Pd4PxXxc1rKS",
        "outputId": "f3806bcb-2e25-4846-debf-cb5915dfb05e"
      },
      "outputs": [
        {
          "name": "stdout",
          "output_type": "stream",
          "text": [
            "Epoch 1/200\n",
            "11/11 [==============================] - 1s 17ms/step - loss: 514.3693 - mae: 20.7135 - val_loss: 545.1305 - val_mae: 21.4521\n",
            "Epoch 2/200\n",
            "11/11 [==============================] - 0s 4ms/step - loss: 454.5011 - mae: 19.2422 - val_loss: 481.3677 - val_mae: 19.9197\n",
            "Epoch 3/200\n",
            "11/11 [==============================] - 0s 4ms/step - loss: 392.6167 - mae: 17.5967 - val_loss: 412.8172 - val_mae: 18.1688\n",
            "Epoch 4/200\n",
            "11/11 [==============================] - 0s 6ms/step - loss: 327.4386 - mae: 15.7402 - val_loss: 333.3587 - val_mae: 15.9785\n",
            "Epoch 5/200\n",
            "11/11 [==============================] - 0s 4ms/step - loss: 256.1007 - mae: 13.6196 - val_loss: 262.9146 - val_mae: 13.7200\n",
            "Epoch 6/200\n",
            "11/11 [==============================] - 0s 4ms/step - loss: 193.0388 - mae: 11.3743 - val_loss: 192.8576 - val_mae: 11.1065\n",
            "Epoch 7/200\n",
            "11/11 [==============================] - 0s 6ms/step - loss: 138.6317 - mae: 9.1805 - val_loss: 142.3325 - val_mae: 9.0830\n",
            "Epoch 8/200\n",
            "11/11 [==============================] - 0s 6ms/step - loss: 101.3058 - mae: 7.7107 - val_loss: 101.5753 - val_mae: 7.6095\n",
            "Epoch 9/200\n",
            "11/11 [==============================] - 0s 6ms/step - loss: 76.0163 - mae: 6.5858 - val_loss: 75.9222 - val_mae: 6.6630\n",
            "Epoch 10/200\n",
            "11/11 [==============================] - 0s 4ms/step - loss: 60.5299 - mae: 5.8534 - val_loss: 64.3232 - val_mae: 6.1895\n",
            "Epoch 11/200\n",
            "11/11 [==============================] - 0s 4ms/step - loss: 52.3678 - mae: 5.4130 - val_loss: 55.5566 - val_mae: 5.7336\n",
            "Epoch 12/200\n",
            "11/11 [==============================] - 0s 4ms/step - loss: 45.1571 - mae: 4.9167 - val_loss: 45.5767 - val_mae: 5.1837\n",
            "Epoch 13/200\n",
            "11/11 [==============================] - 0s 6ms/step - loss: 38.6745 - mae: 4.4794 - val_loss: 38.7031 - val_mae: 4.7364\n",
            "Epoch 14/200\n",
            "11/11 [==============================] - 0s 5ms/step - loss: 34.0778 - mae: 4.1105 - val_loss: 33.3378 - val_mae: 4.3065\n",
            "Epoch 15/200\n",
            "11/11 [==============================] - 0s 6ms/step - loss: 30.2101 - mae: 3.8012 - val_loss: 29.4548 - val_mae: 4.1933\n",
            "Epoch 16/200\n",
            "11/11 [==============================] - 0s 5ms/step - loss: 27.9838 - mae: 3.7099 - val_loss: 26.4508 - val_mae: 3.9942\n",
            "Epoch 17/200\n",
            "11/11 [==============================] - 0s 4ms/step - loss: 25.8762 - mae: 3.4758 - val_loss: 24.9127 - val_mae: 3.7378\n",
            "Epoch 18/200\n",
            "11/11 [==============================] - 0s 6ms/step - loss: 24.0278 - mae: 3.3146 - val_loss: 23.1875 - val_mae: 3.6905\n",
            "Epoch 19/200\n",
            "11/11 [==============================] - 0s 6ms/step - loss: 22.8487 - mae: 3.2336 - val_loss: 23.0786 - val_mae: 3.5770\n",
            "Epoch 20/200\n",
            "11/11 [==============================] - 0s 4ms/step - loss: 21.6903 - mae: 3.1658 - val_loss: 21.2357 - val_mae: 3.5596\n",
            "Epoch 21/200\n",
            "11/11 [==============================] - 0s 6ms/step - loss: 20.7086 - mae: 3.0653 - val_loss: 20.4181 - val_mae: 3.5006\n",
            "Epoch 22/200\n",
            "11/11 [==============================] - 0s 7ms/step - loss: 19.5616 - mae: 2.9338 - val_loss: 20.2538 - val_mae: 3.4968\n",
            "Epoch 23/200\n",
            "11/11 [==============================] - 0s 6ms/step - loss: 18.8924 - mae: 2.9126 - val_loss: 18.6161 - val_mae: 3.1991\n",
            "Epoch 24/200\n",
            "11/11 [==============================] - 0s 4ms/step - loss: 17.6773 - mae: 2.7758 - val_loss: 17.9261 - val_mae: 3.2028\n",
            "Epoch 25/200\n",
            "11/11 [==============================] - 0s 4ms/step - loss: 16.8413 - mae: 2.7338 - val_loss: 17.6032 - val_mae: 3.1664\n",
            "Epoch 26/200\n",
            "11/11 [==============================] - 0s 6ms/step - loss: 16.2024 - mae: 2.6329 - val_loss: 18.2809 - val_mae: 3.2181\n",
            "Epoch 27/200\n",
            "11/11 [==============================] - 0s 6ms/step - loss: 15.5996 - mae: 2.6951 - val_loss: 16.9934 - val_mae: 3.0345\n",
            "Epoch 28/200\n",
            "11/11 [==============================] - 0s 4ms/step - loss: 15.0699 - mae: 2.5488 - val_loss: 16.6517 - val_mae: 3.0361\n",
            "Epoch 29/200\n",
            "11/11 [==============================] - 0s 4ms/step - loss: 14.3021 - mae: 2.4578 - val_loss: 17.9900 - val_mae: 3.2250\n",
            "Epoch 30/200\n",
            "11/11 [==============================] - 0s 4ms/step - loss: 14.1988 - mae: 2.4824 - val_loss: 15.9798 - val_mae: 2.9314\n",
            "Epoch 31/200\n",
            "11/11 [==============================] - 0s 5ms/step - loss: 13.3985 - mae: 2.3784 - val_loss: 16.6432 - val_mae: 3.0172\n",
            "Epoch 32/200\n",
            "11/11 [==============================] - 0s 6ms/step - loss: 13.0837 - mae: 2.4385 - val_loss: 17.5584 - val_mae: 3.1921\n",
            "Epoch 33/200\n",
            "11/11 [==============================] - 0s 4ms/step - loss: 12.8404 - mae: 2.4098 - val_loss: 15.6829 - val_mae: 2.8360\n",
            "Epoch 34/200\n",
            "11/11 [==============================] - 0s 4ms/step - loss: 12.3665 - mae: 2.3573 - val_loss: 15.1370 - val_mae: 2.8742\n",
            "Epoch 35/200\n",
            "11/11 [==============================] - 0s 4ms/step - loss: 12.0997 - mae: 2.2663 - val_loss: 16.6758 - val_mae: 2.9275\n",
            "Epoch 36/200\n",
            "11/11 [==============================] - 0s 6ms/step - loss: 11.6654 - mae: 2.3245 - val_loss: 15.7346 - val_mae: 2.8616\n",
            "Epoch 37/200\n",
            "11/11 [==============================] - 0s 4ms/step - loss: 11.4467 - mae: 2.2480 - val_loss: 15.6054 - val_mae: 2.8382\n",
            "Epoch 38/200\n",
            "11/11 [==============================] - 0s 4ms/step - loss: 11.1555 - mae: 2.2078 - val_loss: 15.3001 - val_mae: 2.7978\n",
            "Epoch 39/200\n",
            "11/11 [==============================] - 0s 4ms/step - loss: 11.2442 - mae: 2.2132 - val_loss: 14.9361 - val_mae: 2.8398\n",
            "Epoch 40/200\n",
            "11/11 [==============================] - 0s 4ms/step - loss: 11.0148 - mae: 2.1698 - val_loss: 15.0886 - val_mae: 2.8438\n",
            "Epoch 41/200\n",
            "11/11 [==============================] - 0s 6ms/step - loss: 10.7835 - mae: 2.1829 - val_loss: 15.9187 - val_mae: 2.8677\n",
            "Epoch 42/200\n",
            "11/11 [==============================] - 0s 4ms/step - loss: 10.5594 - mae: 2.2042 - val_loss: 14.9889 - val_mae: 2.8064\n",
            "Epoch 43/200\n",
            "11/11 [==============================] - 0s 4ms/step - loss: 10.4042 - mae: 2.1483 - val_loss: 15.1719 - val_mae: 2.7148\n",
            "Epoch 44/200\n",
            "11/11 [==============================] - 0s 4ms/step - loss: 10.3736 - mae: 2.1861 - val_loss: 15.7350 - val_mae: 2.8047\n",
            "Epoch 45/200\n",
            "11/11 [==============================] - 0s 4ms/step - loss: 10.1520 - mae: 2.1774 - val_loss: 14.9250 - val_mae: 2.7459\n",
            "Epoch 46/200\n",
            "11/11 [==============================] - 0s 4ms/step - loss: 10.0977 - mae: 2.1163 - val_loss: 15.1685 - val_mae: 2.7150\n",
            "Epoch 47/200\n",
            "11/11 [==============================] - 0s 4ms/step - loss: 9.8321 - mae: 2.1130 - val_loss: 15.8169 - val_mae: 2.9010\n",
            "Epoch 48/200\n",
            "11/11 [==============================] - 0s 4ms/step - loss: 10.1329 - mae: 2.1408 - val_loss: 16.7117 - val_mae: 2.9671\n",
            "Epoch 49/200\n",
            "11/11 [==============================] - 0s 6ms/step - loss: 9.7598 - mae: 2.1224 - val_loss: 14.7073 - val_mae: 2.7643\n",
            "Epoch 50/200\n",
            "11/11 [==============================] - 0s 4ms/step - loss: 9.5194 - mae: 2.0669 - val_loss: 15.6040 - val_mae: 2.7117\n",
            "Epoch 51/200\n",
            "11/11 [==============================] - 0s 6ms/step - loss: 9.4636 - mae: 2.0817 - val_loss: 15.4051 - val_mae: 2.7560\n",
            "Epoch 52/200\n",
            "11/11 [==============================] - 0s 4ms/step - loss: 9.4019 - mae: 2.0772 - val_loss: 15.6022 - val_mae: 2.7722\n",
            "Epoch 53/200\n",
            "11/11 [==============================] - 0s 4ms/step - loss: 9.2953 - mae: 2.0796 - val_loss: 15.2712 - val_mae: 2.6954\n",
            "Epoch 54/200\n",
            "11/11 [==============================] - 0s 5ms/step - loss: 9.0960 - mae: 2.0743 - val_loss: 14.5542 - val_mae: 2.7740\n",
            "Epoch 55/200\n",
            "11/11 [==============================] - 0s 4ms/step - loss: 9.5682 - mae: 2.0676 - val_loss: 15.1632 - val_mae: 2.7015\n",
            "Epoch 56/200\n",
            "11/11 [==============================] - 0s 4ms/step - loss: 9.0529 - mae: 2.0521 - val_loss: 15.7543 - val_mae: 2.7275\n",
            "Epoch 57/200\n",
            "11/11 [==============================] - 0s 4ms/step - loss: 8.9957 - mae: 2.0462 - val_loss: 15.4855 - val_mae: 2.8947\n",
            "Epoch 58/200\n",
            "11/11 [==============================] - 0s 4ms/step - loss: 9.1939 - mae: 2.0114 - val_loss: 15.6372 - val_mae: 2.7070\n",
            "Epoch 59/200\n",
            "11/11 [==============================] - 0s 4ms/step - loss: 8.8855 - mae: 2.0132 - val_loss: 17.2259 - val_mae: 2.8480\n",
            "Epoch 60/200\n",
            "11/11 [==============================] - 0s 4ms/step - loss: 8.9515 - mae: 2.1280 - val_loss: 15.7808 - val_mae: 2.7297\n",
            "Epoch 61/200\n",
            "11/11 [==============================] - 0s 4ms/step - loss: 8.8509 - mae: 2.0525 - val_loss: 15.3370 - val_mae: 2.6756\n",
            "Epoch 62/200\n",
            "11/11 [==============================] - 0s 4ms/step - loss: 8.5734 - mae: 2.0095 - val_loss: 16.2486 - val_mae: 2.7819\n",
            "Epoch 63/200\n",
            "11/11 [==============================] - 0s 5ms/step - loss: 8.8316 - mae: 2.0534 - val_loss: 15.2253 - val_mae: 2.6452\n",
            "Epoch 64/200\n",
            "11/11 [==============================] - 0s 4ms/step - loss: 8.6190 - mae: 2.0209 - val_loss: 14.5213 - val_mae: 2.6940\n",
            "Epoch 65/200\n",
            "11/11 [==============================] - 0s 4ms/step - loss: 8.5090 - mae: 1.9978 - val_loss: 15.4075 - val_mae: 2.7455\n",
            "Epoch 66/200\n",
            "11/11 [==============================] - 0s 6ms/step - loss: 8.6174 - mae: 2.0251 - val_loss: 14.5085 - val_mae: 2.6316\n",
            "Epoch 67/200\n",
            "11/11 [==============================] - 0s 4ms/step - loss: 8.4862 - mae: 1.9754 - val_loss: 14.8778 - val_mae: 2.7430\n",
            "Epoch 68/200\n",
            "11/11 [==============================] - 0s 5ms/step - loss: 8.4401 - mae: 1.9685 - val_loss: 14.1664 - val_mae: 2.6449\n",
            "Epoch 69/200\n",
            "11/11 [==============================] - 0s 4ms/step - loss: 8.2077 - mae: 1.9479 - val_loss: 14.2764 - val_mae: 2.6208\n",
            "Epoch 70/200\n",
            "11/11 [==============================] - 0s 4ms/step - loss: 8.3529 - mae: 1.9980 - val_loss: 15.6418 - val_mae: 2.6714\n",
            "Epoch 71/200\n",
            "11/11 [==============================] - 0s 4ms/step - loss: 8.2680 - mae: 1.9889 - val_loss: 15.4443 - val_mae: 2.6772\n",
            "Epoch 72/200\n",
            "11/11 [==============================] - 0s 6ms/step - loss: 8.1702 - mae: 1.9614 - val_loss: 15.9499 - val_mae: 2.7849\n",
            "Epoch 73/200\n",
            "11/11 [==============================] - 0s 4ms/step - loss: 8.2814 - mae: 1.9656 - val_loss: 15.9564 - val_mae: 2.7180\n",
            "Epoch 74/200\n",
            "11/11 [==============================] - 0s 4ms/step - loss: 8.2885 - mae: 1.9681 - val_loss: 14.7696 - val_mae: 2.6370\n",
            "Epoch 75/200\n",
            "11/11 [==============================] - 0s 6ms/step - loss: 7.9602 - mae: 1.9386 - val_loss: 14.1623 - val_mae: 2.6162\n",
            "Epoch 76/200\n",
            "11/11 [==============================] - 0s 4ms/step - loss: 8.2076 - mae: 1.9208 - val_loss: 15.1933 - val_mae: 2.7860\n",
            "Epoch 77/200\n",
            "11/11 [==============================] - 0s 4ms/step - loss: 8.1657 - mae: 1.9617 - val_loss: 14.6190 - val_mae: 2.6477\n",
            "Epoch 78/200\n",
            "11/11 [==============================] - 0s 4ms/step - loss: 8.1056 - mae: 1.9505 - val_loss: 15.6201 - val_mae: 2.6733\n",
            "Epoch 79/200\n",
            "11/11 [==============================] - 0s 4ms/step - loss: 7.7467 - mae: 1.9198 - val_loss: 14.3611 - val_mae: 2.6492\n",
            "Epoch 80/200\n",
            "11/11 [==============================] - 0s 4ms/step - loss: 7.8713 - mae: 1.8669 - val_loss: 14.7949 - val_mae: 2.6165\n",
            "Epoch 81/200\n",
            "11/11 [==============================] - 0s 6ms/step - loss: 7.6884 - mae: 1.8687 - val_loss: 16.7432 - val_mae: 2.8446\n",
            "Epoch 82/200\n",
            "11/11 [==============================] - 0s 6ms/step - loss: 8.0245 - mae: 1.9196 - val_loss: 15.3381 - val_mae: 2.7010\n",
            "Epoch 83/200\n",
            "11/11 [==============================] - 0s 6ms/step - loss: 7.7750 - mae: 1.9310 - val_loss: 14.9289 - val_mae: 2.7431\n",
            "Epoch 84/200\n",
            "11/11 [==============================] - 0s 6ms/step - loss: 7.7607 - mae: 1.8966 - val_loss: 14.7193 - val_mae: 2.6847\n",
            "Epoch 85/200\n",
            "11/11 [==============================] - 0s 6ms/step - loss: 7.7999 - mae: 1.8861 - val_loss: 15.4359 - val_mae: 2.6466\n",
            "Epoch 86/200\n",
            "11/11 [==============================] - 0s 4ms/step - loss: 7.5442 - mae: 1.8851 - val_loss: 15.5212 - val_mae: 2.6337\n",
            "Epoch 87/200\n",
            "11/11 [==============================] - 0s 4ms/step - loss: 7.5276 - mae: 1.9087 - val_loss: 14.4569 - val_mae: 2.6406\n",
            "Epoch 88/200\n",
            "11/11 [==============================] - 0s 4ms/step - loss: 7.5686 - mae: 1.8551 - val_loss: 14.5325 - val_mae: 2.6924\n",
            "Epoch 89/200\n",
            "11/11 [==============================] - 0s 5ms/step - loss: 7.4923 - mae: 1.8470 - val_loss: 16.7074 - val_mae: 2.7629\n",
            "Epoch 90/200\n",
            "11/11 [==============================] - 0s 4ms/step - loss: 7.6642 - mae: 1.9193 - val_loss: 14.4558 - val_mae: 2.6217\n",
            "Epoch 91/200\n",
            "11/11 [==============================] - 0s 4ms/step - loss: 7.3016 - mae: 1.8280 - val_loss: 15.6618 - val_mae: 2.6430\n",
            "Epoch 92/200\n",
            "11/11 [==============================] - 0s 6ms/step - loss: 7.5467 - mae: 1.8895 - val_loss: 15.9793 - val_mae: 2.7275\n",
            "Epoch 93/200\n",
            "11/11 [==============================] - 0s 6ms/step - loss: 7.4210 - mae: 1.8652 - val_loss: 14.4952 - val_mae: 2.6149\n",
            "Epoch 94/200\n",
            "11/11 [==============================] - 0s 4ms/step - loss: 7.4115 - mae: 1.8447 - val_loss: 15.2392 - val_mae: 2.7781\n",
            "Epoch 95/200\n",
            "11/11 [==============================] - 0s 4ms/step - loss: 7.4351 - mae: 1.8569 - val_loss: 15.1812 - val_mae: 2.6670\n",
            "Epoch 96/200\n",
            "11/11 [==============================] - 0s 4ms/step - loss: 7.2519 - mae: 1.8242 - val_loss: 16.3683 - val_mae: 2.6795\n",
            "Epoch 97/200\n",
            "11/11 [==============================] - 0s 4ms/step - loss: 7.2913 - mae: 1.8679 - val_loss: 15.0647 - val_mae: 2.6204\n",
            "Epoch 98/200\n",
            "11/11 [==============================] - 0s 4ms/step - loss: 7.1421 - mae: 1.8471 - val_loss: 14.7093 - val_mae: 2.6145\n",
            "Epoch 99/200\n",
            "11/11 [==============================] - 0s 7ms/step - loss: 7.1649 - mae: 1.7891 - val_loss: 15.1591 - val_mae: 2.6522\n",
            "Epoch 100/200\n",
            "11/11 [==============================] - 0s 4ms/step - loss: 7.2095 - mae: 1.8469 - val_loss: 13.9208 - val_mae: 2.6144\n",
            "Epoch 101/200\n",
            "11/11 [==============================] - 0s 4ms/step - loss: 7.0753 - mae: 1.7936 - val_loss: 17.1314 - val_mae: 2.8456\n",
            "Epoch 102/200\n",
            "11/11 [==============================] - 0s 4ms/step - loss: 7.0667 - mae: 1.8742 - val_loss: 14.8087 - val_mae: 2.6089\n",
            "Epoch 103/200\n",
            "11/11 [==============================] - 0s 5ms/step - loss: 7.0832 - mae: 1.8246 - val_loss: 14.3988 - val_mae: 2.5929\n",
            "Epoch 104/200\n",
            "11/11 [==============================] - 0s 6ms/step - loss: 7.0150 - mae: 1.7843 - val_loss: 15.1832 - val_mae: 2.7375\n",
            "Epoch 105/200\n",
            "11/11 [==============================] - 0s 4ms/step - loss: 6.9431 - mae: 1.7650 - val_loss: 16.6065 - val_mae: 2.6663\n",
            "Epoch 106/200\n",
            "11/11 [==============================] - 0s 4ms/step - loss: 6.9329 - mae: 1.8383 - val_loss: 15.4657 - val_mae: 2.6867\n",
            "Epoch 107/200\n",
            "11/11 [==============================] - 0s 6ms/step - loss: 6.8313 - mae: 1.7962 - val_loss: 14.8848 - val_mae: 2.6950\n",
            "Epoch 108/200\n",
            "11/11 [==============================] - 0s 6ms/step - loss: 6.9771 - mae: 1.7811 - val_loss: 15.5503 - val_mae: 2.6206\n",
            "Epoch 109/200\n",
            "11/11 [==============================] - 0s 4ms/step - loss: 6.8217 - mae: 1.7809 - val_loss: 16.6850 - val_mae: 2.7553\n",
            "Epoch 110/200\n",
            "11/11 [==============================] - 0s 4ms/step - loss: 7.0021 - mae: 1.8280 - val_loss: 14.8713 - val_mae: 2.5876\n",
            "Epoch 111/200\n",
            "11/11 [==============================] - 0s 4ms/step - loss: 6.8783 - mae: 1.7853 - val_loss: 17.3471 - val_mae: 2.6685\n",
            "Epoch 112/200\n",
            "11/11 [==============================] - 0s 4ms/step - loss: 6.7967 - mae: 1.8283 - val_loss: 15.7952 - val_mae: 2.6909\n",
            "Epoch 113/200\n",
            "11/11 [==============================] - 0s 4ms/step - loss: 6.7856 - mae: 1.7779 - val_loss: 17.8714 - val_mae: 2.8015\n",
            "Epoch 114/200\n",
            "11/11 [==============================] - 0s 4ms/step - loss: 6.8891 - mae: 1.8630 - val_loss: 15.3903 - val_mae: 2.6487\n",
            "Epoch 115/200\n",
            "11/11 [==============================] - 0s 4ms/step - loss: 6.7095 - mae: 1.7940 - val_loss: 16.0055 - val_mae: 2.6811\n",
            "Epoch 116/200\n",
            "11/11 [==============================] - 0s 4ms/step - loss: 6.6973 - mae: 1.7731 - val_loss: 15.1277 - val_mae: 2.6732\n",
            "Epoch 117/200\n",
            "11/11 [==============================] - 0s 4ms/step - loss: 6.6906 - mae: 1.7930 - val_loss: 14.6694 - val_mae: 2.6187\n",
            "Epoch 118/200\n",
            "11/11 [==============================] - 0s 6ms/step - loss: 6.6283 - mae: 1.7583 - val_loss: 17.2321 - val_mae: 2.6696\n",
            "Epoch 119/200\n",
            "11/11 [==============================] - 0s 4ms/step - loss: 6.8980 - mae: 1.8534 - val_loss: 17.0307 - val_mae: 2.7559\n",
            "Epoch 120/200\n",
            "11/11 [==============================] - 0s 4ms/step - loss: 6.5505 - mae: 1.7865 - val_loss: 17.1348 - val_mae: 2.9144\n",
            "Epoch 121/200\n",
            "11/11 [==============================] - 0s 6ms/step - loss: 6.8941 - mae: 1.8200 - val_loss: 14.6901 - val_mae: 2.6352\n",
            "Epoch 122/200\n",
            "11/11 [==============================] - 0s 4ms/step - loss: 6.6251 - mae: 1.7546 - val_loss: 14.7755 - val_mae: 2.6128\n",
            "Epoch 123/200\n",
            "11/11 [==============================] - 0s 6ms/step - loss: 6.5545 - mae: 1.7581 - val_loss: 15.3051 - val_mae: 2.6325\n",
            "Epoch 124/200\n",
            "11/11 [==============================] - 0s 4ms/step - loss: 6.5150 - mae: 1.7354 - val_loss: 15.4967 - val_mae: 2.6370\n",
            "Epoch 125/200\n",
            "11/11 [==============================] - 0s 6ms/step - loss: 6.6221 - mae: 1.8103 - val_loss: 15.0037 - val_mae: 2.6909\n",
            "Epoch 126/200\n",
            "11/11 [==============================] - 0s 6ms/step - loss: 6.5746 - mae: 1.7505 - val_loss: 15.2839 - val_mae: 2.6082\n",
            "Epoch 127/200\n",
            "11/11 [==============================] - 0s 4ms/step - loss: 6.6592 - mae: 1.7715 - val_loss: 15.2721 - val_mae: 2.6378\n",
            "Epoch 128/200\n",
            "11/11 [==============================] - 0s 4ms/step - loss: 6.4028 - mae: 1.7394 - val_loss: 14.3360 - val_mae: 2.6022\n",
            "Epoch 129/200\n",
            "11/11 [==============================] - 0s 4ms/step - loss: 6.4486 - mae: 1.7176 - val_loss: 15.8039 - val_mae: 2.7614\n",
            "Epoch 130/200\n",
            "11/11 [==============================] - 0s 4ms/step - loss: 6.4890 - mae: 1.7756 - val_loss: 14.4370 - val_mae: 2.5868\n",
            "Epoch 131/200\n",
            "11/11 [==============================] - 0s 4ms/step - loss: 6.2429 - mae: 1.6917 - val_loss: 14.5185 - val_mae: 2.5812\n",
            "Epoch 132/200\n",
            "11/11 [==============================] - 0s 4ms/step - loss: 6.2395 - mae: 1.7103 - val_loss: 16.7925 - val_mae: 2.6504\n",
            "Epoch 133/200\n",
            "11/11 [==============================] - 0s 4ms/step - loss: 6.4457 - mae: 1.7459 - val_loss: 14.9461 - val_mae: 2.6005\n",
            "Epoch 134/200\n",
            "11/11 [==============================] - 0s 4ms/step - loss: 6.3994 - mae: 1.7290 - val_loss: 15.6277 - val_mae: 2.6619\n",
            "Epoch 135/200\n",
            "11/11 [==============================] - 0s 6ms/step - loss: 6.2533 - mae: 1.7219 - val_loss: 16.5862 - val_mae: 2.6822\n",
            "Epoch 136/200\n",
            "11/11 [==============================] - 0s 4ms/step - loss: 6.3659 - mae: 1.7189 - val_loss: 15.1849 - val_mae: 2.6686\n",
            "Epoch 137/200\n",
            "11/11 [==============================] - 0s 6ms/step - loss: 6.2813 - mae: 1.7363 - val_loss: 15.1466 - val_mae: 2.6460\n",
            "Epoch 138/200\n",
            "11/11 [==============================] - 0s 7ms/step - loss: 6.1482 - mae: 1.6958 - val_loss: 17.8767 - val_mae: 3.0105\n",
            "Epoch 139/200\n",
            "11/11 [==============================] - 0s 4ms/step - loss: 6.5634 - mae: 1.8026 - val_loss: 16.1664 - val_mae: 2.6136\n",
            "Epoch 140/200\n",
            "11/11 [==============================] - 0s 4ms/step - loss: 6.0916 - mae: 1.7006 - val_loss: 17.2110 - val_mae: 2.9149\n",
            "Epoch 141/200\n",
            "11/11 [==============================] - 0s 4ms/step - loss: 6.5520 - mae: 1.7656 - val_loss: 15.1166 - val_mae: 2.5459\n",
            "Epoch 142/200\n",
            "11/11 [==============================] - 0s 6ms/step - loss: 6.0201 - mae: 1.7126 - val_loss: 15.1968 - val_mae: 2.6171\n",
            "Epoch 143/200\n",
            "11/11 [==============================] - 0s 4ms/step - loss: 6.0381 - mae: 1.6955 - val_loss: 15.4669 - val_mae: 2.5668\n",
            "Epoch 144/200\n",
            "11/11 [==============================] - 0s 6ms/step - loss: 6.1375 - mae: 1.6951 - val_loss: 14.8360 - val_mae: 2.6003\n",
            "Epoch 145/200\n",
            "11/11 [==============================] - 0s 4ms/step - loss: 6.0421 - mae: 1.6980 - val_loss: 15.2140 - val_mae: 2.6492\n",
            "Epoch 146/200\n",
            "11/11 [==============================] - 0s 6ms/step - loss: 6.0461 - mae: 1.6622 - val_loss: 16.3762 - val_mae: 2.6169\n",
            "Epoch 147/200\n",
            "11/11 [==============================] - 0s 4ms/step - loss: 6.1635 - mae: 1.7414 - val_loss: 15.2312 - val_mae: 2.6398\n",
            "Epoch 148/200\n",
            "11/11 [==============================] - 0s 4ms/step - loss: 6.0749 - mae: 1.6833 - val_loss: 16.3612 - val_mae: 2.5971\n",
            "Epoch 149/200\n",
            "11/11 [==============================] - 0s 4ms/step - loss: 6.0715 - mae: 1.7200 - val_loss: 15.7022 - val_mae: 2.5653\n",
            "Epoch 150/200\n",
            "11/11 [==============================] - 0s 7ms/step - loss: 5.8545 - mae: 1.6873 - val_loss: 15.2439 - val_mae: 2.5927\n",
            "Epoch 151/200\n",
            "11/11 [==============================] - 0s 4ms/step - loss: 5.9489 - mae: 1.6979 - val_loss: 15.8557 - val_mae: 2.6180\n",
            "Epoch 152/200\n",
            "11/11 [==============================] - 0s 4ms/step - loss: 5.9050 - mae: 1.6780 - val_loss: 15.7558 - val_mae: 2.5790\n",
            "Epoch 153/200\n",
            "11/11 [==============================] - 0s 4ms/step - loss: 5.9371 - mae: 1.7171 - val_loss: 14.6860 - val_mae: 2.5748\n",
            "Epoch 154/200\n",
            "11/11 [==============================] - 0s 4ms/step - loss: 6.0009 - mae: 1.6719 - val_loss: 14.5219 - val_mae: 2.5398\n",
            "Epoch 155/200\n",
            "11/11 [==============================] - 0s 4ms/step - loss: 6.0203 - mae: 1.6590 - val_loss: 14.4839 - val_mae: 2.5798\n",
            "Epoch 156/200\n",
            "11/11 [==============================] - 0s 6ms/step - loss: 5.8029 - mae: 1.6625 - val_loss: 15.6980 - val_mae: 2.7291\n",
            "Epoch 157/200\n",
            "11/11 [==============================] - 0s 6ms/step - loss: 6.0846 - mae: 1.6798 - val_loss: 14.5718 - val_mae: 2.5713\n",
            "Epoch 158/200\n",
            "11/11 [==============================] - 0s 6ms/step - loss: 5.9385 - mae: 1.6479 - val_loss: 15.2529 - val_mae: 2.5730\n",
            "Epoch 159/200\n",
            "11/11 [==============================] - 0s 6ms/step - loss: 5.8399 - mae: 1.6538 - val_loss: 14.7042 - val_mae: 2.5754\n",
            "Epoch 160/200\n",
            "11/11 [==============================] - 0s 6ms/step - loss: 5.7191 - mae: 1.6339 - val_loss: 14.9587 - val_mae: 2.5843\n",
            "Epoch 161/200\n",
            "11/11 [==============================] - 0s 4ms/step - loss: 5.9593 - mae: 1.6636 - val_loss: 16.2551 - val_mae: 2.7226\n",
            "Epoch 162/200\n",
            "11/11 [==============================] - 0s 4ms/step - loss: 5.7821 - mae: 1.6618 - val_loss: 16.8972 - val_mae: 2.6550\n",
            "Epoch 163/200\n",
            "11/11 [==============================] - 0s 4ms/step - loss: 5.8738 - mae: 1.6708 - val_loss: 14.9210 - val_mae: 2.5997\n",
            "Epoch 164/200\n",
            "11/11 [==============================] - 0s 6ms/step - loss: 5.6508 - mae: 1.6072 - val_loss: 15.4002 - val_mae: 2.5460\n",
            "Epoch 165/200\n",
            "11/11 [==============================] - 0s 5ms/step - loss: 5.6535 - mae: 1.5995 - val_loss: 15.8584 - val_mae: 2.6053\n",
            "Epoch 166/200\n",
            "11/11 [==============================] - 0s 4ms/step - loss: 5.8633 - mae: 1.6648 - val_loss: 15.3114 - val_mae: 2.5671\n",
            "Epoch 167/200\n",
            "11/11 [==============================] - 0s 4ms/step - loss: 5.6697 - mae: 1.6217 - val_loss: 15.1061 - val_mae: 2.6132\n",
            "Epoch 168/200\n",
            "11/11 [==============================] - 0s 4ms/step - loss: 5.8312 - mae: 1.6649 - val_loss: 16.9980 - val_mae: 2.6143\n",
            "Epoch 169/200\n",
            "11/11 [==============================] - 0s 4ms/step - loss: 5.6921 - mae: 1.6551 - val_loss: 16.3822 - val_mae: 2.5904\n",
            "Epoch 170/200\n",
            "11/11 [==============================] - 0s 4ms/step - loss: 5.7226 - mae: 1.6553 - val_loss: 16.4572 - val_mae: 2.7551\n",
            "Epoch 171/200\n",
            "11/11 [==============================] - 0s 4ms/step - loss: 5.7463 - mae: 1.6601 - val_loss: 15.5210 - val_mae: 2.6021\n",
            "Epoch 172/200\n",
            "11/11 [==============================] - 0s 4ms/step - loss: 5.6827 - mae: 1.6289 - val_loss: 15.8757 - val_mae: 2.5764\n",
            "Epoch 173/200\n",
            "11/11 [==============================] - 0s 5ms/step - loss: 5.6347 - mae: 1.6622 - val_loss: 15.2561 - val_mae: 2.5777\n",
            "Epoch 174/200\n",
            "11/11 [==============================] - 0s 4ms/step - loss: 5.5670 - mae: 1.6092 - val_loss: 15.7155 - val_mae: 2.6600\n",
            "Epoch 175/200\n",
            "11/11 [==============================] - 0s 4ms/step - loss: 5.5266 - mae: 1.6023 - val_loss: 16.0320 - val_mae: 2.5595\n",
            "Epoch 176/200\n",
            "11/11 [==============================] - 0s 6ms/step - loss: 5.5719 - mae: 1.6173 - val_loss: 17.8466 - val_mae: 2.7521\n",
            "Epoch 177/200\n",
            "11/11 [==============================] - 0s 4ms/step - loss: 5.6137 - mae: 1.6613 - val_loss: 16.5200 - val_mae: 2.7148\n",
            "Epoch 178/200\n",
            "11/11 [==============================] - 0s 4ms/step - loss: 5.4660 - mae: 1.6213 - val_loss: 15.3804 - val_mae: 2.5551\n",
            "Epoch 179/200\n",
            "11/11 [==============================] - 0s 4ms/step - loss: 5.5133 - mae: 1.6094 - val_loss: 17.7450 - val_mae: 2.7116\n",
            "Epoch 180/200\n",
            "11/11 [==============================] - 0s 5ms/step - loss: 5.7118 - mae: 1.6477 - val_loss: 17.8017 - val_mae: 2.7204\n",
            "Epoch 181/200\n",
            "11/11 [==============================] - 0s 4ms/step - loss: 5.4488 - mae: 1.6469 - val_loss: 15.6585 - val_mae: 2.6284\n",
            "Epoch 182/200\n",
            "11/11 [==============================] - 0s 4ms/step - loss: 5.3025 - mae: 1.5582 - val_loss: 17.0945 - val_mae: 2.5904\n",
            "Epoch 183/200\n",
            "11/11 [==============================] - 0s 5ms/step - loss: 5.4873 - mae: 1.6104 - val_loss: 16.7501 - val_mae: 2.5608\n",
            "Epoch 184/200\n",
            "11/11 [==============================] - 0s 4ms/step - loss: 5.3471 - mae: 1.6142 - val_loss: 15.8783 - val_mae: 2.5348\n",
            "Epoch 185/200\n",
            "11/11 [==============================] - 0s 4ms/step - loss: 5.4875 - mae: 1.6246 - val_loss: 16.0881 - val_mae: 2.5862\n",
            "Epoch 186/200\n",
            "11/11 [==============================] - 0s 4ms/step - loss: 5.3636 - mae: 1.5960 - val_loss: 16.6663 - val_mae: 2.5520\n",
            "Epoch 187/200\n",
            "11/11 [==============================] - 0s 4ms/step - loss: 5.3763 - mae: 1.5613 - val_loss: 15.1373 - val_mae: 2.5816\n",
            "Epoch 188/200\n",
            "11/11 [==============================] - 0s 4ms/step - loss: 5.5791 - mae: 1.6083 - val_loss: 15.4695 - val_mae: 2.5457\n",
            "Epoch 189/200\n",
            "11/11 [==============================] - 0s 4ms/step - loss: 5.1626 - mae: 1.5733 - val_loss: 15.4086 - val_mae: 2.5915\n",
            "Epoch 190/200\n",
            "11/11 [==============================] - 0s 6ms/step - loss: 5.3647 - mae: 1.6048 - val_loss: 16.6146 - val_mae: 2.7729\n",
            "Epoch 191/200\n",
            "11/11 [==============================] - 0s 5ms/step - loss: 5.4991 - mae: 1.5891 - val_loss: 16.4755 - val_mae: 2.5949\n",
            "Epoch 192/200\n",
            "11/11 [==============================] - 0s 4ms/step - loss: 5.2455 - mae: 1.5917 - val_loss: 16.2730 - val_mae: 2.6537\n",
            "Epoch 193/200\n",
            "11/11 [==============================] - 0s 4ms/step - loss: 5.2338 - mae: 1.5661 - val_loss: 15.5017 - val_mae: 2.5382\n",
            "Epoch 194/200\n",
            "11/11 [==============================] - 0s 4ms/step - loss: 5.2276 - mae: 1.5753 - val_loss: 16.8590 - val_mae: 2.6784\n",
            "Epoch 195/200\n",
            "11/11 [==============================] - 0s 4ms/step - loss: 5.2651 - mae: 1.5876 - val_loss: 16.7262 - val_mae: 2.6298\n",
            "Epoch 196/200\n",
            "11/11 [==============================] - 0s 6ms/step - loss: 5.1918 - mae: 1.5572 - val_loss: 16.0563 - val_mae: 2.5673\n",
            "Epoch 197/200\n",
            "11/11 [==============================] - 0s 6ms/step - loss: 5.1140 - mae: 1.5589 - val_loss: 18.3806 - val_mae: 2.7387\n",
            "Epoch 198/200\n",
            "11/11 [==============================] - 0s 4ms/step - loss: 5.2435 - mae: 1.6016 - val_loss: 15.3435 - val_mae: 2.5830\n",
            "Epoch 199/200\n",
            "11/11 [==============================] - 0s 5ms/step - loss: 5.1414 - mae: 1.5631 - val_loss: 15.7008 - val_mae: 2.5136\n",
            "Epoch 200/200\n",
            "11/11 [==============================] - 0s 4ms/step - loss: 4.9626 - mae: 1.5316 - val_loss: 15.2193 - val_mae: 2.5981\n"
          ]
        }
      ],
      "source": [
        "from tensorflow.keras import models\n",
        "from tensorflow.keras import layers\n",
        "\n",
        "model = models.Sequential()\n",
        "model.add(layers.Dense(52, input_dim = 13, activation='relu'))\n",
        "model.add(layers.Dense(52, activation='relu'))\n",
        "model.add(layers.Dense(1, activation='linear'))\n",
        "\n",
        "model.compile(\n",
        "    optimizer='rmsprop',\n",
        "    loss='mse',\n",
        "    metrics=['mae']\n",
        ")\n",
        "\n",
        "# train\n",
        "history=model.fit(\n",
        "    train_data,\n",
        "    train_targets,\n",
        "    epochs=200,\n",
        "    batch_size=32,\n",
        "    validation_split=0.2\n",
        ")"
      ]
    },
    {
      "cell_type": "code",
      "execution_count": null,
      "metadata": {
        "colab": {
          "base_uri": "https://localhost:8080/",
          "height": 279
        },
        "id": "G1NF-FJx10W_",
        "outputId": "70620c84-5032-4348-af6a-31a54b9d43a7"
      },
      "outputs": [
        {
          "data": {
            "image/png": "[encoded data removed]",
            "text/plain": [
              "<Figure size 432x288 with 1 Axes>"
            ]
          },
          "metadata": {
            "needs_background": "light"
          },
          "output_type": "display_data"
        }
      ],
      "source": [
        "import numpy as np\n",
        "import matplotlib.pyplot as plt\n",
        "\n",
        "plt.plot(range(1, len(history.history['val_mae']) + 1), history.history['val_mae'])\n",
        "plt.xlabel('Epochs')\n",
        "plt.ylabel('Validation MAE')\n",
        "plt.show()"
      ]
    },
    {
      "cell_type": "code",
      "execution_count": null,
      "metadata": {
        "colab": {
          "base_uri": "https://localhost:8080/",
          "height": 279
        },
        "id": "PRtaNgoy10Bm",
        "outputId": "c686acc4-b43c-44c1-db40-037e55ceb21c"
      },
      "outputs": [
        {
          "data": {
            "image/png": "[encoded data removed]",
            "text/plain": [
              "<Figure size 432x288 with 1 Axes>"
            ]
          },
          "metadata": {
            "needs_background": "light"
          },
          "output_type": "display_data"
        }
      ],
      "source": [
        "plt.plot(range(1, len(history.history['loss']) + 1), history.history['loss'])\n",
        "plt.xlabel('Epochs')\n",
        "plt.ylabel('Loss')\n",
        "plt.show()"
      ]
    },
    {
      "cell_type": "markdown",
      "metadata": {
        "id": "XuNtACtO451g"
      },
      "source": [
        "Still we aren't achieving validation MAE's of below 1 (which would represent being under a $1000 off the correct price). It should be said this is a very small dataset, and we may want to reconsider our validation technique, we are currently employing a standard 'holdout validation' which is fine for a larger dataset, however 'k fold cross validation' would be much more viable here. On top of this it doesn't seem like down the line our current model architecture will allow for overfitting so we will also increase the power of our model."
      ]
    },
    {
      "cell_type": "markdown",
      "metadata": {
        "id": "xY_AG5R55Btr"
      },
      "source": [
        "###third attempt"
      ]
    },
    {
      "cell_type": "markdown",
      "metadata": {
        "id": "21vXaXZHABVv"
      },
      "source": [
        "At this point I also realised I have been working under the false impression that layer unit numbers cannot be an arbitrary value, and have been trying to correspond them with dataset features. I won't have to concern myself with this now! It should also be said I was working under a common sense baseline of trying to achieve an MAE below 1 (1000 dollars off), however no matter how much I play with the structure of my network I seem to be only reaching a minimun of 2.5 so perhaps this ($1000) measure was innacurate."
      ]
    },
    {
      "cell_type": "code",
      "execution_count": null,
      "metadata": {
        "colab": {
          "base_uri": "https://localhost:8080/"
        },
        "id": "j_CpXONI5GYO",
        "outputId": "00021afa-634e-46d4-be47-b74ce86d3db6"
      },
      "outputs": [
        {
          "name": "stdout",
          "output_type": "stream",
          "text": [
            "Epoch 1/60\n",
            "10/10 [==============================] - 1s 25ms/step - loss: 512.8964 - mae: 20.9104 - val_loss: 355.0843 - val_mae: 16.8199\n",
            "Epoch 2/60\n",
            "10/10 [==============================] - 0s 5ms/step - loss: 242.9057 - mae: 13.3193 - val_loss: 73.8538 - val_mae: 6.4779\n",
            "Epoch 3/60\n",
            "10/10 [==============================] - 0s 5ms/step - loss: 76.9736 - mae: 6.7175 - val_loss: 46.9965 - val_mae: 4.9534\n",
            "Epoch 4/60\n",
            "10/10 [==============================] - 0s 6ms/step - loss: 49.9010 - mae: 5.4698 - val_loss: 31.8195 - val_mae: 4.1078\n",
            "Epoch 5/60\n",
            "10/10 [==============================] - 0s 5ms/step - loss: 34.8197 - mae: 4.4615 - val_loss: 25.2303 - val_mae: 3.6049\n",
            "Epoch 6/60\n",
            "10/10 [==============================] - 0s 6ms/step - loss: 26.5962 - mae: 3.7802 - val_loss: 21.7519 - val_mae: 3.3828\n",
            "Epoch 7/60\n",
            "10/10 [==============================] - 0s 6ms/step - loss: 21.1850 - mae: 3.2978 - val_loss: 18.5971 - val_mae: 2.8726\n",
            "Epoch 8/60\n",
            "10/10 [==============================] - 0s 5ms/step - loss: 18.9591 - mae: 3.0392 - val_loss: 15.8021 - val_mae: 2.7496\n",
            "Epoch 9/60\n",
            "10/10 [==============================] - 0s 8ms/step - loss: 17.4501 - mae: 2.9009 - val_loss: 14.2547 - val_mae: 2.6292\n",
            "Epoch 10/60\n",
            "10/10 [==============================] - 0s 6ms/step - loss: 16.2263 - mae: 2.8414 - val_loss: 13.9899 - val_mae: 2.7792\n",
            "Epoch 11/60\n",
            "10/10 [==============================] - 0s 5ms/step - loss: 15.2301 - mae: 2.7156 - val_loss: 22.4064 - val_mae: 3.9151\n",
            "Epoch 12/60\n",
            "10/10 [==============================] - 0s 5ms/step - loss: 15.6349 - mae: 2.8254 - val_loss: 11.7232 - val_mae: 2.3346\n",
            "Epoch 13/60\n",
            "10/10 [==============================] - 0s 5ms/step - loss: 14.4480 - mae: 2.6475 - val_loss: 16.6833 - val_mae: 2.8185\n",
            "Epoch 14/60\n",
            "10/10 [==============================] - 0s 5ms/step - loss: 13.5015 - mae: 2.6321 - val_loss: 10.8576 - val_mae: 2.3066\n",
            "Epoch 15/60\n",
            "10/10 [==============================] - 0s 5ms/step - loss: 14.3512 - mae: 2.7010 - val_loss: 15.0077 - val_mae: 3.0705\n",
            "Epoch 16/60\n",
            "10/10 [==============================] - 0s 7ms/step - loss: 13.1714 - mae: 2.5317 - val_loss: 11.6208 - val_mae: 2.6215\n",
            "Epoch 17/60\n",
            "10/10 [==============================] - 0s 5ms/step - loss: 11.4579 - mae: 2.4561 - val_loss: 10.3064 - val_mae: 2.1489\n",
            "Epoch 18/60\n",
            "10/10 [==============================] - 0s 5ms/step - loss: 13.5395 - mae: 2.6366 - val_loss: 9.6794 - val_mae: 2.1551\n",
            "Epoch 19/60\n",
            "10/10 [==============================] - 0s 5ms/step - loss: 11.9837 - mae: 2.5045 - val_loss: 9.6480 - val_mae: 2.1829\n",
            "Epoch 20/60\n",
            "10/10 [==============================] - 0s 8ms/step - loss: 11.2443 - mae: 2.3900 - val_loss: 12.8541 - val_mae: 2.8871\n",
            "Epoch 21/60\n",
            "10/10 [==============================] - 0s 5ms/step - loss: 11.2413 - mae: 2.4545 - val_loss: 9.7163 - val_mae: 2.2963\n",
            "Epoch 22/60\n",
            "10/10 [==============================] - 0s 7ms/step - loss: 11.5580 - mae: 2.4298 - val_loss: 9.3642 - val_mae: 2.0822\n",
            "Epoch 23/60\n",
            "10/10 [==============================] - 0s 5ms/step - loss: 10.5477 - mae: 2.2593 - val_loss: 9.6415 - val_mae: 2.2221\n",
            "Epoch 24/60\n",
            "10/10 [==============================] - 0s 6ms/step - loss: 10.1216 - mae: 2.2873 - val_loss: 13.9946 - val_mae: 3.0186\n",
            "Epoch 25/60\n",
            "10/10 [==============================] - 0s 6ms/step - loss: 11.1186 - mae: 2.4367 - val_loss: 9.1536 - val_mae: 2.1176\n",
            "Epoch 26/60\n",
            "10/10 [==============================] - 0s 5ms/step - loss: 9.0880 - mae: 2.1030 - val_loss: 14.6342 - val_mae: 2.9685\n",
            "Epoch 27/60\n",
            "10/10 [==============================] - 0s 5ms/step - loss: 10.5472 - mae: 2.2877 - val_loss: 13.7731 - val_mae: 3.1326\n",
            "Epoch 28/60\n",
            "10/10 [==============================] - 0s 7ms/step - loss: 10.0639 - mae: 2.2404 - val_loss: 10.5978 - val_mae: 2.4852\n",
            "Epoch 29/60\n",
            "10/10 [==============================] - 0s 7ms/step - loss: 9.7885 - mae: 2.2277 - val_loss: 8.8917 - val_mae: 2.3262\n",
            "Epoch 30/60\n",
            "10/10 [==============================] - 0s 5ms/step - loss: 8.9340 - mae: 2.1067 - val_loss: 8.1584 - val_mae: 2.0137\n",
            "Epoch 31/60\n",
            "10/10 [==============================] - 0s 5ms/step - loss: 9.2314 - mae: 2.1112 - val_loss: 10.7990 - val_mae: 2.6754\n",
            "Epoch 32/60\n",
            "10/10 [==============================] - 0s 7ms/step - loss: 9.5897 - mae: 2.1764 - val_loss: 9.0317 - val_mae: 2.2739\n",
            "Epoch 33/60\n",
            "10/10 [==============================] - 0s 6ms/step - loss: 9.5412 - mae: 2.1977 - val_loss: 9.9943 - val_mae: 2.4636\n",
            "Epoch 34/60\n",
            "10/10 [==============================] - 0s 5ms/step - loss: 8.3232 - mae: 2.0434 - val_loss: 14.1604 - val_mae: 3.1903\n",
            "Epoch 35/60\n",
            "10/10 [==============================] - 0s 5ms/step - loss: 9.0868 - mae: 2.1515 - val_loss: 8.4430 - val_mae: 2.1706\n",
            "Epoch 36/60\n",
            "10/10 [==============================] - 0s 5ms/step - loss: 8.6346 - mae: 2.0967 - val_loss: 8.4430 - val_mae: 2.1810\n",
            "Epoch 37/60\n",
            "10/10 [==============================] - 0s 8ms/step - loss: 8.2413 - mae: 2.0708 - val_loss: 8.8981 - val_mae: 2.0910\n",
            "Epoch 38/60\n",
            "10/10 [==============================] - 0s 6ms/step - loss: 8.9809 - mae: 2.1348 - val_loss: 7.6991 - val_mae: 1.9255\n",
            "Epoch 39/60\n",
            "10/10 [==============================] - 0s 5ms/step - loss: 8.3143 - mae: 2.0637 - val_loss: 7.5806 - val_mae: 1.9539\n",
            "Epoch 40/60\n",
            "10/10 [==============================] - 0s 7ms/step - loss: 8.0345 - mae: 1.9820 - val_loss: 8.7807 - val_mae: 2.3715\n",
            "Epoch 41/60\n",
            "10/10 [==============================] - 0s 9ms/step - loss: 8.4119 - mae: 2.1105 - val_loss: 14.4732 - val_mae: 2.8288\n",
            "Epoch 42/60\n",
            "10/10 [==============================] - 0s 7ms/step - loss: 8.1774 - mae: 2.0116 - val_loss: 10.0821 - val_mae: 2.1351\n",
            "Epoch 43/60\n",
            "10/10 [==============================] - 0s 7ms/step - loss: 8.2872 - mae: 1.9925 - val_loss: 7.8352 - val_mae: 2.0596\n",
            "Epoch 44/60\n",
            "10/10 [==============================] - 0s 5ms/step - loss: 6.7718 - mae: 1.8520 - val_loss: 7.5134 - val_mae: 2.0974\n",
            "Epoch 45/60\n",
            "10/10 [==============================] - 0s 6ms/step - loss: 7.8131 - mae: 1.9418 - val_loss: 12.2814 - val_mae: 2.6030\n",
            "Epoch 46/60\n",
            "10/10 [==============================] - 0s 5ms/step - loss: 8.7177 - mae: 2.1078 - val_loss: 7.1602 - val_mae: 2.0180\n",
            "Epoch 47/60\n",
            "10/10 [==============================] - 0s 7ms/step - loss: 6.7522 - mae: 1.7912 - val_loss: 8.4927 - val_mae: 2.1909\n",
            "Epoch 48/60\n",
            "10/10 [==============================] - 0s 8ms/step - loss: 7.6167 - mae: 1.9607 - val_loss: 11.0677 - val_mae: 2.3943\n",
            "Epoch 49/60\n",
            "10/10 [==============================] - 0s 8ms/step - loss: 6.8263 - mae: 1.8551 - val_loss: 6.9280 - val_mae: 1.8921\n",
            "Epoch 50/60\n",
            "10/10 [==============================] - 0s 9ms/step - loss: 7.6059 - mae: 1.9663 - val_loss: 7.1143 - val_mae: 1.9695\n",
            "Epoch 51/60\n",
            "10/10 [==============================] - 0s 8ms/step - loss: 6.9892 - mae: 1.8423 - val_loss: 7.1195 - val_mae: 2.0445\n",
            "Epoch 52/60\n",
            "10/10 [==============================] - 0s 8ms/step - loss: 7.0945 - mae: 1.8768 - val_loss: 7.3083 - val_mae: 2.0947\n",
            "Epoch 53/60\n",
            "10/10 [==============================] - 0s 6ms/step - loss: 7.3469 - mae: 1.8900 - val_loss: 10.8190 - val_mae: 2.3404\n",
            "Epoch 54/60\n",
            "10/10 [==============================] - 0s 8ms/step - loss: 8.1949 - mae: 2.0628 - val_loss: 7.0187 - val_mae: 2.0027\n",
            "Epoch 55/60\n",
            "10/10 [==============================] - 0s 6ms/step - loss: 6.1860 - mae: 1.7466 - val_loss: 8.3317 - val_mae: 1.9747\n",
            "Epoch 56/60\n",
            "10/10 [==============================] - 0s 6ms/step - loss: 6.7093 - mae: 1.7764 - val_loss: 7.1382 - val_mae: 1.9298\n",
            "Epoch 57/60\n",
            "10/10 [==============================] - 0s 7ms/step - loss: 7.6723 - mae: 1.9976 - val_loss: 7.5299 - val_mae: 1.9506\n",
            "Epoch 58/60\n",
            "10/10 [==============================] - 0s 7ms/step - loss: 6.6557 - mae: 1.8103 - val_loss: 9.1522 - val_mae: 2.2516\n",
            "Epoch 59/60\n",
            "10/10 [==============================] - 0s 7ms/step - loss: 6.1381 - mae: 1.7580 - val_loss: 8.6160 - val_mae: 2.0933\n",
            "Epoch 60/60\n",
            "10/10 [==============================] - 0s 8ms/step - loss: 7.5928 - mae: 1.9947 - val_loss: 8.6883 - val_mae: 2.3528\n",
            "Epoch 1/60\n",
            "10/10 [==============================] - 1s 24ms/step - loss: 562.8864 - mae: 21.7299 - val_loss: 447.8849 - val_mae: 19.2920\n",
            "Epoch 2/60\n",
            "10/10 [==============================] - 0s 7ms/step - loss: 369.9506 - mae: 16.6574 - val_loss: 200.4834 - val_mae: 12.1689\n",
            "Epoch 3/60\n",
            "10/10 [==============================] - 0s 7ms/step - loss: 121.8656 - mae: 8.5693 - val_loss: 59.4613 - val_mae: 5.8047\n",
            "Epoch 4/60\n",
            "10/10 [==============================] - 0s 6ms/step - loss: 47.7322 - mae: 5.1392 - val_loss: 37.8919 - val_mae: 4.5559\n",
            "Epoch 5/60\n",
            "10/10 [==============================] - 0s 6ms/step - loss: 33.0940 - mae: 4.2070 - val_loss: 28.8402 - val_mae: 3.9188\n",
            "Epoch 6/60\n",
            "10/10 [==============================] - 0s 6ms/step - loss: 26.7163 - mae: 3.5880 - val_loss: 25.2908 - val_mae: 3.6034\n",
            "Epoch 7/60\n",
            "10/10 [==============================] - 0s 8ms/step - loss: 21.9832 - mae: 3.2900 - val_loss: 24.6837 - val_mae: 3.6663\n",
            "Epoch 8/60\n",
            "10/10 [==============================] - 0s 7ms/step - loss: 20.3433 - mae: 3.1228 - val_loss: 22.1037 - val_mae: 3.3977\n",
            "Epoch 9/60\n",
            "10/10 [==============================] - 0s 6ms/step - loss: 16.7955 - mae: 2.8886 - val_loss: 20.5597 - val_mae: 3.2580\n",
            "Epoch 10/60\n",
            "10/10 [==============================] - 0s 8ms/step - loss: 17.0111 - mae: 2.8576 - val_loss: 20.2843 - val_mae: 3.3310\n",
            "Epoch 11/60\n",
            "10/10 [==============================] - 0s 7ms/step - loss: 14.6297 - mae: 2.6681 - val_loss: 18.3373 - val_mae: 3.1399\n",
            "Epoch 12/60\n",
            "10/10 [==============================] - 0s 10ms/step - loss: 13.0868 - mae: 2.5135 - val_loss: 17.1638 - val_mae: 3.0818\n",
            "Epoch 13/60\n",
            "10/10 [==============================] - 0s 7ms/step - loss: 13.1432 - mae: 2.5150 - val_loss: 18.4314 - val_mae: 3.2378\n",
            "Epoch 14/60\n",
            "10/10 [==============================] - 0s 8ms/step - loss: 13.5716 - mae: 2.5965 - val_loss: 17.1179 - val_mae: 3.1572\n",
            "Epoch 15/60\n",
            "10/10 [==============================] - 0s 7ms/step - loss: 12.0074 - mae: 2.4032 - val_loss: 15.0067 - val_mae: 2.9269\n",
            "Epoch 16/60\n",
            "10/10 [==============================] - 0s 6ms/step - loss: 12.5824 - mae: 2.4797 - val_loss: 14.5454 - val_mae: 2.9434\n",
            "Epoch 17/60\n",
            "10/10 [==============================] - 0s 6ms/step - loss: 10.7443 - mae: 2.3307 - val_loss: 26.3803 - val_mae: 4.0720\n",
            "Epoch 18/60\n",
            "10/10 [==============================] - 0s 6ms/step - loss: 11.0308 - mae: 2.3928 - val_loss: 13.5791 - val_mae: 2.8252\n",
            "Epoch 19/60\n",
            "10/10 [==============================] - 0s 7ms/step - loss: 11.5264 - mae: 2.4765 - val_loss: 13.5964 - val_mae: 2.8840\n",
            "Epoch 20/60\n",
            "10/10 [==============================] - 0s 5ms/step - loss: 10.1298 - mae: 2.2468 - val_loss: 14.1982 - val_mae: 2.9414\n",
            "Epoch 21/60\n",
            "10/10 [==============================] - 0s 6ms/step - loss: 11.1956 - mae: 2.3905 - val_loss: 12.0376 - val_mae: 2.7051\n",
            "Epoch 22/60\n",
            "10/10 [==============================] - 0s 5ms/step - loss: 9.0105 - mae: 2.1323 - val_loss: 15.7025 - val_mae: 3.0913\n",
            "Epoch 23/60\n",
            "10/10 [==============================] - 0s 5ms/step - loss: 9.5858 - mae: 2.2396 - val_loss: 18.5212 - val_mae: 3.3550\n",
            "Epoch 24/60\n",
            "10/10 [==============================] - 0s 6ms/step - loss: 9.3384 - mae: 2.2680 - val_loss: 15.0472 - val_mae: 2.9955\n",
            "Epoch 25/60\n",
            "10/10 [==============================] - 0s 5ms/step - loss: 8.8550 - mae: 2.1455 - val_loss: 12.7522 - val_mae: 2.8134\n",
            "Epoch 26/60\n",
            "10/10 [==============================] - 0s 7ms/step - loss: 9.1853 - mae: 2.2096 - val_loss: 15.0607 - val_mae: 3.0413\n",
            "Epoch 27/60\n",
            "10/10 [==============================] - 0s 6ms/step - loss: 9.0759 - mae: 2.1688 - val_loss: 13.9700 - val_mae: 2.9382\n",
            "Epoch 28/60\n",
            "10/10 [==============================] - 0s 5ms/step - loss: 9.1601 - mae: 2.1320 - val_loss: 11.1176 - val_mae: 2.6234\n",
            "Epoch 29/60\n",
            "10/10 [==============================] - 0s 5ms/step - loss: 8.6107 - mae: 2.1590 - val_loss: 12.4898 - val_mae: 2.7454\n",
            "Epoch 30/60\n",
            "10/10 [==============================] - 0s 5ms/step - loss: 8.6290 - mae: 2.1094 - val_loss: 13.0286 - val_mae: 2.8319\n",
            "Epoch 31/60\n",
            "10/10 [==============================] - 0s 7ms/step - loss: 8.2906 - mae: 2.1664 - val_loss: 10.4779 - val_mae: 2.5181\n",
            "Epoch 32/60\n",
            "10/10 [==============================] - 0s 7ms/step - loss: 7.8003 - mae: 2.0351 - val_loss: 10.6891 - val_mae: 2.5623\n",
            "Epoch 33/60\n",
            "10/10 [==============================] - 0s 9ms/step - loss: 8.7357 - mae: 2.2290 - val_loss: 11.3141 - val_mae: 2.6153\n",
            "Epoch 34/60\n",
            "10/10 [==============================] - 0s 6ms/step - loss: 7.1522 - mae: 1.9424 - val_loss: 16.9345 - val_mae: 3.2294\n",
            "Epoch 35/60\n",
            "10/10 [==============================] - 0s 6ms/step - loss: 7.3094 - mae: 1.9832 - val_loss: 12.4347 - val_mae: 2.7517\n",
            "Epoch 36/60\n",
            "10/10 [==============================] - 0s 7ms/step - loss: 7.7754 - mae: 1.9894 - val_loss: 10.9948 - val_mae: 2.6294\n",
            "Epoch 37/60\n",
            "10/10 [==============================] - 0s 8ms/step - loss: 7.7739 - mae: 2.0631 - val_loss: 10.6425 - val_mae: 2.5407\n",
            "Epoch 38/60\n",
            "10/10 [==============================] - 0s 7ms/step - loss: 7.7555 - mae: 1.9893 - val_loss: 10.6176 - val_mae: 2.5204\n",
            "Epoch 39/60\n",
            "10/10 [==============================] - 0s 7ms/step - loss: 7.9482 - mae: 2.0164 - val_loss: 14.4627 - val_mae: 2.9872\n",
            "Epoch 40/60\n",
            "10/10 [==============================] - 0s 8ms/step - loss: 7.6124 - mae: 2.0107 - val_loss: 12.9063 - val_mae: 2.8108\n",
            "Epoch 41/60\n",
            "10/10 [==============================] - 0s 8ms/step - loss: 6.1832 - mae: 1.8462 - val_loss: 11.0800 - val_mae: 2.5931\n",
            "Epoch 42/60\n",
            "10/10 [==============================] - 0s 6ms/step - loss: 8.1459 - mae: 2.1189 - val_loss: 11.4752 - val_mae: 2.6552\n",
            "Epoch 43/60\n",
            "10/10 [==============================] - 0s 6ms/step - loss: 6.6442 - mae: 1.8776 - val_loss: 11.2684 - val_mae: 2.6340\n",
            "Epoch 44/60\n",
            "10/10 [==============================] - 0s 7ms/step - loss: 6.2425 - mae: 1.8055 - val_loss: 15.8133 - val_mae: 3.1223\n",
            "Epoch 45/60\n",
            "10/10 [==============================] - 0s 8ms/step - loss: 6.2583 - mae: 1.8320 - val_loss: 9.6400 - val_mae: 2.3981\n",
            "Epoch 46/60\n",
            "10/10 [==============================] - 0s 6ms/step - loss: 7.3415 - mae: 1.9499 - val_loss: 12.7350 - val_mae: 2.7980\n",
            "Epoch 47/60\n",
            "10/10 [==============================] - 0s 6ms/step - loss: 5.9941 - mae: 1.8116 - val_loss: 12.4265 - val_mae: 2.7604\n",
            "Epoch 48/60\n",
            "10/10 [==============================] - 0s 6ms/step - loss: 7.3721 - mae: 2.0432 - val_loss: 11.2302 - val_mae: 2.6103\n",
            "Epoch 49/60\n",
            "10/10 [==============================] - 0s 6ms/step - loss: 6.9520 - mae: 1.9144 - val_loss: 14.4014 - val_mae: 2.9802\n",
            "Epoch 50/60\n",
            "10/10 [==============================] - 0s 7ms/step - loss: 6.5088 - mae: 1.9190 - val_loss: 12.1620 - val_mae: 2.7122\n",
            "Epoch 51/60\n",
            "10/10 [==============================] - 0s 6ms/step - loss: 5.7039 - mae: 1.7302 - val_loss: 11.8469 - val_mae: 2.6678\n",
            "Epoch 52/60\n",
            "10/10 [==============================] - 0s 6ms/step - loss: 6.2934 - mae: 1.8673 - val_loss: 12.0139 - val_mae: 2.6773\n",
            "Epoch 53/60\n",
            "10/10 [==============================] - 0s 8ms/step - loss: 6.4460 - mae: 1.8583 - val_loss: 15.4618 - val_mae: 3.0966\n",
            "Epoch 54/60\n",
            "10/10 [==============================] - 0s 7ms/step - loss: 5.8906 - mae: 1.8156 - val_loss: 11.9035 - val_mae: 2.6534\n",
            "Epoch 55/60\n",
            "10/10 [==============================] - 0s 7ms/step - loss: 5.3952 - mae: 1.6882 - val_loss: 12.6098 - val_mae: 2.7695\n",
            "Epoch 56/60\n",
            "10/10 [==============================] - 0s 7ms/step - loss: 5.6616 - mae: 1.7282 - val_loss: 12.7104 - val_mae: 2.8071\n",
            "Epoch 57/60\n",
            "10/10 [==============================] - 0s 6ms/step - loss: 6.7999 - mae: 1.9176 - val_loss: 13.7125 - val_mae: 2.9043\n",
            "Epoch 58/60\n",
            "10/10 [==============================] - 0s 6ms/step - loss: 6.5367 - mae: 1.9080 - val_loss: 9.5411 - val_mae: 2.3789\n",
            "Epoch 59/60\n",
            "10/10 [==============================] - 0s 8ms/step - loss: 5.8340 - mae: 1.7235 - val_loss: 13.0070 - val_mae: 2.8215\n",
            "Epoch 60/60\n",
            "10/10 [==============================] - 0s 6ms/step - loss: 5.7395 - mae: 1.8242 - val_loss: 9.9316 - val_mae: 2.4188\n",
            "Epoch 1/60\n",
            "10/10 [==============================] - 1s 22ms/step - loss: 540.2292 - mae: 21.1084 - val_loss: 348.7990 - val_mae: 16.7395\n",
            "Epoch 2/60\n",
            "10/10 [==============================] - 0s 7ms/step - loss: 290.9758 - mae: 14.4320 - val_loss: 119.4043 - val_mae: 9.1015\n",
            "Epoch 3/60\n",
            "10/10 [==============================] - 0s 7ms/step - loss: 84.8364 - mae: 7.0400 - val_loss: 47.9031 - val_mae: 5.3981\n",
            "Epoch 4/60\n",
            "10/10 [==============================] - 0s 9ms/step - loss: 40.9278 - mae: 4.6829 - val_loss: 36.4016 - val_mae: 4.3342\n",
            "Epoch 5/60\n",
            "10/10 [==============================] - 0s 8ms/step - loss: 27.5751 - mae: 3.7303 - val_loss: 29.1920 - val_mae: 3.7219\n",
            "Epoch 6/60\n",
            "10/10 [==============================] - 0s 7ms/step - loss: 21.4253 - mae: 3.2972 - val_loss: 27.0967 - val_mae: 3.5697\n",
            "Epoch 7/60\n",
            "10/10 [==============================] - 0s 5ms/step - loss: 17.3903 - mae: 3.0282 - val_loss: 23.7113 - val_mae: 3.2047\n",
            "Epoch 8/60\n",
            "10/10 [==============================] - 0s 5ms/step - loss: 16.2326 - mae: 2.9937 - val_loss: 21.9849 - val_mae: 3.0897\n",
            "Epoch 9/60\n",
            "10/10 [==============================] - 0s 5ms/step - loss: 14.2880 - mae: 2.6886 - val_loss: 23.3569 - val_mae: 3.3706\n",
            "Epoch 10/60\n",
            "10/10 [==============================] - 0s 6ms/step - loss: 13.3878 - mae: 2.6527 - val_loss: 19.4978 - val_mae: 3.0057\n",
            "Epoch 11/60\n",
            "10/10 [==============================] - 0s 8ms/step - loss: 11.9151 - mae: 2.5372 - val_loss: 26.8144 - val_mae: 3.8298\n",
            "Epoch 12/60\n",
            "10/10 [==============================] - 0s 5ms/step - loss: 12.2516 - mae: 2.5475 - val_loss: 19.1032 - val_mae: 2.9585\n",
            "Epoch 13/60\n",
            "10/10 [==============================] - 0s 7ms/step - loss: 11.5675 - mae: 2.4660 - val_loss: 19.1529 - val_mae: 2.9795\n",
            "Epoch 14/60\n",
            "10/10 [==============================] - 0s 7ms/step - loss: 11.2691 - mae: 2.5049 - val_loss: 25.6356 - val_mae: 3.6803\n",
            "Epoch 15/60\n",
            "10/10 [==============================] - 0s 7ms/step - loss: 10.5368 - mae: 2.4449 - val_loss: 18.3959 - val_mae: 2.9002\n",
            "Epoch 16/60\n",
            "10/10 [==============================] - 0s 6ms/step - loss: 10.0503 - mae: 2.3582 - val_loss: 17.7799 - val_mae: 2.8713\n",
            "Epoch 17/60\n",
            "10/10 [==============================] - 0s 6ms/step - loss: 9.7635 - mae: 2.3258 - val_loss: 18.4852 - val_mae: 2.9737\n",
            "Epoch 18/60\n",
            "10/10 [==============================] - 0s 8ms/step - loss: 9.6401 - mae: 2.3454 - val_loss: 17.7396 - val_mae: 2.9101\n",
            "Epoch 19/60\n",
            "10/10 [==============================] - 0s 7ms/step - loss: 8.6662 - mae: 2.2107 - val_loss: 16.5252 - val_mae: 2.7463\n",
            "Epoch 20/60\n",
            "10/10 [==============================] - 0s 5ms/step - loss: 9.7948 - mae: 2.2691 - val_loss: 19.2489 - val_mae: 3.1274\n",
            "Epoch 21/60\n",
            "10/10 [==============================] - 0s 5ms/step - loss: 9.1896 - mae: 2.2927 - val_loss: 16.4139 - val_mae: 2.8466\n",
            "Epoch 22/60\n",
            "10/10 [==============================] - 0s 5ms/step - loss: 8.2416 - mae: 2.1975 - val_loss: 15.7743 - val_mae: 2.8376\n",
            "Epoch 23/60\n",
            "10/10 [==============================] - 0s 5ms/step - loss: 7.9407 - mae: 2.1297 - val_loss: 15.7181 - val_mae: 2.7332\n",
            "Epoch 24/60\n",
            "10/10 [==============================] - 0s 7ms/step - loss: 7.6425 - mae: 2.0676 - val_loss: 14.6736 - val_mae: 2.7304\n",
            "Epoch 25/60\n",
            "10/10 [==============================] - 0s 7ms/step - loss: 8.0817 - mae: 2.1266 - val_loss: 14.8390 - val_mae: 2.6794\n",
            "Epoch 26/60\n",
            "10/10 [==============================] - 0s 8ms/step - loss: 6.5931 - mae: 1.8942 - val_loss: 16.5296 - val_mae: 3.0162\n",
            "Epoch 27/60\n",
            "10/10 [==============================] - 0s 8ms/step - loss: 7.5944 - mae: 2.0597 - val_loss: 15.6607 - val_mae: 2.7510\n",
            "Epoch 28/60\n",
            "10/10 [==============================] - 0s 7ms/step - loss: 8.8718 - mae: 2.2076 - val_loss: 14.2229 - val_mae: 2.6465\n",
            "Epoch 29/60\n",
            "10/10 [==============================] - 0s 7ms/step - loss: 7.1753 - mae: 2.0178 - val_loss: 14.4470 - val_mae: 2.7592\n",
            "Epoch 30/60\n",
            "10/10 [==============================] - 0s 7ms/step - loss: 6.2922 - mae: 1.8526 - val_loss: 14.1105 - val_mae: 2.6299\n",
            "Epoch 31/60\n",
            "10/10 [==============================] - 0s 10ms/step - loss: 7.8882 - mae: 2.1295 - val_loss: 14.9253 - val_mae: 2.7627\n",
            "Epoch 32/60\n",
            "10/10 [==============================] - 0s 7ms/step - loss: 6.2669 - mae: 1.8838 - val_loss: 13.9261 - val_mae: 2.6416\n",
            "Epoch 33/60\n",
            "10/10 [==============================] - 0s 8ms/step - loss: 6.3287 - mae: 1.8656 - val_loss: 15.7228 - val_mae: 2.9010\n",
            "Epoch 34/60\n",
            "10/10 [==============================] - 0s 7ms/step - loss: 5.7724 - mae: 1.8231 - val_loss: 23.8166 - val_mae: 3.8191\n",
            "Epoch 35/60\n",
            "10/10 [==============================] - 0s 8ms/step - loss: 7.0750 - mae: 2.0596 - val_loss: 17.5162 - val_mae: 3.1012\n",
            "Epoch 36/60\n",
            "10/10 [==============================] - 0s 7ms/step - loss: 6.0913 - mae: 1.8479 - val_loss: 17.4047 - val_mae: 3.1348\n",
            "Epoch 37/60\n",
            "10/10 [==============================] - 0s 8ms/step - loss: 6.4133 - mae: 1.8721 - val_loss: 13.9918 - val_mae: 2.6979\n",
            "Epoch 38/60\n",
            "10/10 [==============================] - 0s 8ms/step - loss: 6.0373 - mae: 1.8344 - val_loss: 15.7619 - val_mae: 2.9009\n",
            "Epoch 39/60\n",
            "10/10 [==============================] - 0s 6ms/step - loss: 5.5623 - mae: 1.7687 - val_loss: 13.7786 - val_mae: 2.6347\n",
            "Epoch 40/60\n",
            "10/10 [==============================] - 0s 7ms/step - loss: 5.1954 - mae: 1.7313 - val_loss: 14.1587 - val_mae: 2.7630\n",
            "Epoch 41/60\n",
            "10/10 [==============================] - 0s 6ms/step - loss: 6.3776 - mae: 1.9376 - val_loss: 15.3743 - val_mae: 2.8513\n",
            "Epoch 42/60\n",
            "10/10 [==============================] - 0s 6ms/step - loss: 5.3713 - mae: 1.7458 - val_loss: 14.4341 - val_mae: 2.6593\n",
            "Epoch 43/60\n",
            "10/10 [==============================] - 0s 6ms/step - loss: 5.7324 - mae: 1.8009 - val_loss: 18.6005 - val_mae: 3.2095\n",
            "Epoch 44/60\n",
            "10/10 [==============================] - 0s 7ms/step - loss: 5.3606 - mae: 1.7788 - val_loss: 15.1326 - val_mae: 2.8252\n",
            "Epoch 45/60\n",
            "10/10 [==============================] - 0s 7ms/step - loss: 6.2394 - mae: 1.9014 - val_loss: 15.6338 - val_mae: 2.8553\n",
            "Epoch 46/60\n",
            "10/10 [==============================] - 0s 6ms/step - loss: 4.6648 - mae: 1.5908 - val_loss: 19.8971 - val_mae: 3.3933\n",
            "Epoch 47/60\n",
            "10/10 [==============================] - 0s 6ms/step - loss: 6.0691 - mae: 1.9036 - val_loss: 13.7779 - val_mae: 2.5455\n",
            "Epoch 48/60\n",
            "10/10 [==============================] - 0s 6ms/step - loss: 5.2163 - mae: 1.6970 - val_loss: 14.6075 - val_mae: 2.7588\n",
            "Epoch 49/60\n",
            "10/10 [==============================] - 0s 6ms/step - loss: 4.9890 - mae: 1.6587 - val_loss: 15.1836 - val_mae: 2.8149\n",
            "Epoch 50/60\n",
            "10/10 [==============================] - 0s 6ms/step - loss: 5.2106 - mae: 1.7699 - val_loss: 20.7557 - val_mae: 3.4588\n",
            "Epoch 51/60\n",
            "10/10 [==============================] - 0s 7ms/step - loss: 4.8928 - mae: 1.6393 - val_loss: 13.7190 - val_mae: 2.6582\n",
            "Epoch 52/60\n",
            "10/10 [==============================] - 0s 8ms/step - loss: 4.6963 - mae: 1.6648 - val_loss: 13.2523 - val_mae: 2.5826\n",
            "Epoch 53/60\n",
            "10/10 [==============================] - 0s 6ms/step - loss: 4.9861 - mae: 1.6964 - val_loss: 13.4491 - val_mae: 2.6874\n",
            "Epoch 54/60\n",
            "10/10 [==============================] - 0s 7ms/step - loss: 4.2915 - mae: 1.5895 - val_loss: 17.7642 - val_mae: 3.1557\n",
            "Epoch 55/60\n",
            "10/10 [==============================] - 0s 6ms/step - loss: 5.7638 - mae: 1.7912 - val_loss: 13.5702 - val_mae: 2.5255\n",
            "Epoch 56/60\n",
            "10/10 [==============================] - 0s 6ms/step - loss: 4.9829 - mae: 1.6892 - val_loss: 14.4954 - val_mae: 2.7834\n",
            "Epoch 57/60\n",
            "10/10 [==============================] - 0s 6ms/step - loss: 4.8080 - mae: 1.6961 - val_loss: 15.0597 - val_mae: 2.8484\n",
            "Epoch 58/60\n",
            "10/10 [==============================] - 0s 6ms/step - loss: 5.0740 - mae: 1.7249 - val_loss: 13.8673 - val_mae: 2.6683\n",
            "Epoch 59/60\n",
            "10/10 [==============================] - 0s 6ms/step - loss: 5.4467 - mae: 1.7287 - val_loss: 13.0719 - val_mae: 2.5544\n",
            "Epoch 60/60\n",
            "10/10 [==============================] - 0s 7ms/step - loss: 3.9515 - mae: 1.5065 - val_loss: 13.8140 - val_mae: 2.6718\n",
            "Epoch 1/60\n",
            "10/10 [==============================] - 1s 21ms/step - loss: 500.5856 - mae: 20.5085 - val_loss: 530.6862 - val_mae: 20.7548\n",
            "Epoch 2/60\n",
            "10/10 [==============================] - 0s 5ms/step - loss: 298.3156 - mae: 15.0832 - val_loss: 225.3377 - val_mae: 12.6508\n",
            "Epoch 3/60\n",
            "10/10 [==============================] - 0s 6ms/step - loss: 102.9931 - mae: 8.1655 - val_loss: 83.3620 - val_mae: 6.8754\n",
            "Epoch 4/60\n",
            "10/10 [==============================] - 0s 6ms/step - loss: 51.5263 - mae: 5.3451 - val_loss: 53.2658 - val_mae: 5.2979\n",
            "Epoch 5/60\n",
            "10/10 [==============================] - 0s 6ms/step - loss: 36.1813 - mae: 4.2124 - val_loss: 58.9644 - val_mae: 5.3751\n",
            "Epoch 6/60\n",
            "10/10 [==============================] - 0s 6ms/step - loss: 28.6433 - mae: 3.6536 - val_loss: 39.8487 - val_mae: 4.2273\n",
            "Epoch 7/60\n",
            "10/10 [==============================] - 0s 7ms/step - loss: 22.8074 - mae: 3.2433 - val_loss: 36.3491 - val_mae: 3.9605\n",
            "Epoch 8/60\n",
            "10/10 [==============================] - 0s 5ms/step - loss: 20.7888 - mae: 3.0776 - val_loss: 31.2107 - val_mae: 4.0014\n",
            "Epoch 9/60\n",
            "10/10 [==============================] - 0s 6ms/step - loss: 19.1088 - mae: 2.9553 - val_loss: 28.9126 - val_mae: 3.5522\n",
            "Epoch 10/60\n",
            "10/10 [==============================] - 0s 6ms/step - loss: 17.2816 - mae: 2.8099 - val_loss: 24.5326 - val_mae: 3.4151\n",
            "Epoch 11/60\n",
            "10/10 [==============================] - 0s 6ms/step - loss: 15.4547 - mae: 2.6478 - val_loss: 23.8124 - val_mae: 3.6499\n",
            "Epoch 12/60\n",
            "10/10 [==============================] - 0s 5ms/step - loss: 14.7806 - mae: 2.7077 - val_loss: 22.2360 - val_mae: 3.5094\n",
            "Epoch 13/60\n",
            "10/10 [==============================] - 0s 6ms/step - loss: 13.6618 - mae: 2.4792 - val_loss: 21.2999 - val_mae: 3.5018\n",
            "Epoch 14/60\n",
            "10/10 [==============================] - 0s 6ms/step - loss: 12.5969 - mae: 2.5490 - val_loss: 22.8063 - val_mae: 3.2348\n",
            "Epoch 15/60\n",
            "10/10 [==============================] - 0s 7ms/step - loss: 12.0401 - mae: 2.4378 - val_loss: 19.9302 - val_mae: 3.2761\n",
            "Epoch 16/60\n",
            "10/10 [==============================] - 0s 5ms/step - loss: 12.4137 - mae: 2.4632 - val_loss: 18.3223 - val_mae: 3.0895\n",
            "Epoch 17/60\n",
            "10/10 [==============================] - 0s 6ms/step - loss: 11.0969 - mae: 2.3210 - val_loss: 18.3752 - val_mae: 3.1649\n",
            "Epoch 18/60\n",
            "10/10 [==============================] - 0s 5ms/step - loss: 10.0773 - mae: 2.2978 - val_loss: 18.7075 - val_mae: 3.1843\n",
            "Epoch 19/60\n",
            "10/10 [==============================] - 0s 5ms/step - loss: 10.5200 - mae: 2.2758 - val_loss: 18.3186 - val_mae: 3.0092\n",
            "Epoch 20/60\n",
            "10/10 [==============================] - 0s 7ms/step - loss: 10.1852 - mae: 2.2797 - val_loss: 16.1465 - val_mae: 2.8244\n",
            "Epoch 21/60\n",
            "10/10 [==============================] - 0s 5ms/step - loss: 9.8557 - mae: 2.2667 - val_loss: 16.9252 - val_mae: 3.0612\n",
            "Epoch 22/60\n",
            "10/10 [==============================] - 0s 7ms/step - loss: 10.6070 - mae: 2.3518 - val_loss: 16.1342 - val_mae: 2.9568\n",
            "Epoch 23/60\n",
            "10/10 [==============================] - 0s 7ms/step - loss: 9.6005 - mae: 2.2298 - val_loss: 17.0686 - val_mae: 3.0360\n",
            "Epoch 24/60\n",
            "10/10 [==============================] - 0s 7ms/step - loss: 9.5466 - mae: 2.2571 - val_loss: 16.4823 - val_mae: 2.9008\n",
            "Epoch 25/60\n",
            "10/10 [==============================] - 0s 6ms/step - loss: 8.5041 - mae: 2.0707 - val_loss: 16.1401 - val_mae: 2.8485\n",
            "Epoch 26/60\n",
            "10/10 [==============================] - 0s 6ms/step - loss: 8.2892 - mae: 2.0870 - val_loss: 16.3096 - val_mae: 2.9213\n",
            "Epoch 27/60\n",
            "10/10 [==============================] - 0s 8ms/step - loss: 10.7928 - mae: 2.3831 - val_loss: 14.6911 - val_mae: 2.6961\n",
            "Epoch 28/60\n",
            "10/10 [==============================] - 0s 6ms/step - loss: 8.0655 - mae: 2.0755 - val_loss: 14.6881 - val_mae: 2.7385\n",
            "Epoch 29/60\n",
            "10/10 [==============================] - 0s 5ms/step - loss: 8.2385 - mae: 2.0853 - val_loss: 16.9938 - val_mae: 3.1324\n",
            "Epoch 30/60\n",
            "10/10 [==============================] - 0s 5ms/step - loss: 7.7765 - mae: 1.9897 - val_loss: 14.9456 - val_mae: 2.7604\n",
            "Epoch 31/60\n",
            "10/10 [==============================] - 0s 6ms/step - loss: 7.3881 - mae: 1.9519 - val_loss: 15.7870 - val_mae: 3.0211\n",
            "Epoch 32/60\n",
            "10/10 [==============================] - 0s 9ms/step - loss: 7.4444 - mae: 1.9999 - val_loss: 18.5240 - val_mae: 3.1331\n",
            "Epoch 33/60\n",
            "10/10 [==============================] - 0s 6ms/step - loss: 7.8375 - mae: 2.0245 - val_loss: 16.4860 - val_mae: 3.1400\n",
            "Epoch 34/60\n",
            "10/10 [==============================] - 0s 6ms/step - loss: 7.7616 - mae: 2.0389 - val_loss: 14.3373 - val_mae: 2.7368\n",
            "Epoch 35/60\n",
            "10/10 [==============================] - 0s 5ms/step - loss: 7.8666 - mae: 2.0712 - val_loss: 20.9555 - val_mae: 3.5166\n",
            "Epoch 36/60\n",
            "10/10 [==============================] - 0s 7ms/step - loss: 8.4425 - mae: 2.0856 - val_loss: 13.9070 - val_mae: 2.7034\n",
            "Epoch 37/60\n",
            "10/10 [==============================] - 0s 7ms/step - loss: 6.4652 - mae: 1.8074 - val_loss: 16.8499 - val_mae: 2.9714\n",
            "Epoch 38/60\n",
            "10/10 [==============================] - 0s 7ms/step - loss: 7.4762 - mae: 1.9025 - val_loss: 14.3273 - val_mae: 2.6828\n",
            "Epoch 39/60\n",
            "10/10 [==============================] - 0s 6ms/step - loss: 7.0985 - mae: 1.9034 - val_loss: 15.0154 - val_mae: 2.9265\n",
            "Epoch 40/60\n",
            "10/10 [==============================] - 0s 6ms/step - loss: 7.0588 - mae: 1.9280 - val_loss: 15.3825 - val_mae: 2.7615\n",
            "Epoch 41/60\n",
            "10/10 [==============================] - 0s 6ms/step - loss: 6.4577 - mae: 1.8633 - val_loss: 14.7081 - val_mae: 2.8426\n",
            "Epoch 42/60\n",
            "10/10 [==============================] - 0s 6ms/step - loss: 6.6438 - mae: 1.7973 - val_loss: 23.6647 - val_mae: 3.7796\n",
            "Epoch 43/60\n",
            "10/10 [==============================] - 0s 7ms/step - loss: 8.1427 - mae: 2.0273 - val_loss: 14.8294 - val_mae: 2.7390\n",
            "Epoch 44/60\n",
            "10/10 [==============================] - 0s 5ms/step - loss: 6.7827 - mae: 1.9314 - val_loss: 13.9774 - val_mae: 2.6244\n",
            "Epoch 45/60\n",
            "10/10 [==============================] - 0s 6ms/step - loss: 6.1047 - mae: 1.8400 - val_loss: 18.3245 - val_mae: 3.0775\n",
            "Epoch 46/60\n",
            "10/10 [==============================] - 0s 6ms/step - loss: 8.0577 - mae: 2.0716 - val_loss: 16.3204 - val_mae: 3.0552\n",
            "Epoch 47/60\n",
            "10/10 [==============================] - 0s 8ms/step - loss: 5.8820 - mae: 1.7931 - val_loss: 14.2885 - val_mae: 2.6439\n",
            "Epoch 48/60\n",
            "10/10 [==============================] - 0s 5ms/step - loss: 6.7088 - mae: 1.8953 - val_loss: 14.2038 - val_mae: 2.6840\n",
            "Epoch 49/60\n",
            "10/10 [==============================] - 0s 6ms/step - loss: 6.5408 - mae: 1.8966 - val_loss: 20.4810 - val_mae: 3.4158\n",
            "Epoch 50/60\n",
            "10/10 [==============================] - 0s 7ms/step - loss: 7.1091 - mae: 1.9867 - val_loss: 15.1736 - val_mae: 2.6955\n",
            "Epoch 51/60\n",
            "10/10 [==============================] - 0s 6ms/step - loss: 5.8029 - mae: 1.7336 - val_loss: 15.9818 - val_mae: 3.0461\n",
            "Epoch 52/60\n",
            "10/10 [==============================] - 0s 8ms/step - loss: 6.1755 - mae: 1.7866 - val_loss: 15.1292 - val_mae: 2.6854\n",
            "Epoch 53/60\n",
            "10/10 [==============================] - 0s 6ms/step - loss: 5.3430 - mae: 1.7182 - val_loss: 16.3727 - val_mae: 2.8241\n",
            "Epoch 54/60\n",
            "10/10 [==============================] - 0s 7ms/step - loss: 7.0204 - mae: 1.8976 - val_loss: 16.7679 - val_mae: 3.0858\n",
            "Epoch 55/60\n",
            "10/10 [==============================] - 0s 5ms/step - loss: 5.5686 - mae: 1.7472 - val_loss: 14.3206 - val_mae: 2.7563\n",
            "Epoch 56/60\n",
            "10/10 [==============================] - 0s 7ms/step - loss: 5.6253 - mae: 1.7270 - val_loss: 14.4142 - val_mae: 2.7892\n",
            "Epoch 57/60\n",
            "10/10 [==============================] - 0s 5ms/step - loss: 6.0501 - mae: 1.7074 - val_loss: 13.8111 - val_mae: 2.6274\n",
            "Epoch 58/60\n",
            "10/10 [==============================] - 0s 7ms/step - loss: 5.6232 - mae: 1.7057 - val_loss: 16.4288 - val_mae: 3.1019\n",
            "Epoch 59/60\n",
            "10/10 [==============================] - 0s 6ms/step - loss: 6.3354 - mae: 1.7975 - val_loss: 17.9953 - val_mae: 3.2654\n",
            "Epoch 60/60\n",
            "10/10 [==============================] - 0s 6ms/step - loss: 4.9732 - mae: 1.6080 - val_loss: 14.4348 - val_mae: 2.6721\n"
          ]
        }
      ],
      "source": [
        "from tensorflow.keras import models\n",
        "from tensorflow.keras import layers\n",
        "import numpy as np\n",
        "\n",
        "def build_model():\n",
        "  model = models.Sequential()\n",
        "  model.add(layers.Dense(64, input_dim = 13, activation='relu'))\n",
        "  model.add(layers.Dense(64, activation='relu'))\n",
        "  model.add(layers.Dense(64, activation='relu'))\n",
        "  model.add(layers.Dense(64, activation='relu'))\n",
        "  model.add(layers.Dense(1, activation='linear'))\n",
        "\n",
        "  model.compile(\n",
        "      optimizer='rmsprop',\n",
        "      loss='mse',\n",
        "      metrics=['mae']\n",
        "  )\n",
        "  return model\n",
        "\n",
        "# train\n",
        "K = 4\n",
        "num_val_samples = len(train_data) // K\n",
        "num_epochs = 60\n",
        "all_mae_histories = []\n",
        "all_loss_histories = []\n",
        "\n",
        "for i in range(K):\n",
        "    # Prepare the validation data: data from partition i\n",
        "    a, b = i * num_val_samples, (i + 1) * num_val_samples\n",
        "    val_data = train_data[a : b]\n",
        "    val_targets = train_targets[a : b]\n",
        "\n",
        "    # Prepare the training data: data from all other partitions\n",
        "    partial_train_data = np.concatenate([train_data[:a], train_data[b:]], axis=0)\n",
        "    partial_train_targets = np.concatenate([train_targets[:a], train_targets[b:]], axis=0)\n",
        "\n",
        "    # Build the Keras model (already compiled)\n",
        "    model = build_model()\n",
        "\n",
        "    # Train the model (in silent mode, verbose=0)\n",
        "    history = model.fit(\n",
        "        partial_train_data,\n",
        "        partial_train_targets,\n",
        "        validation_data=(val_data, val_targets),\n",
        "        epochs=num_epochs, batch_size=32)\n",
        "\n",
        "    mae_history = history.history['val_mae']\n",
        "    loss_history = history.history['loss']\n",
        "\n",
        "    all_loss_histories.append(loss_history)\n",
        "    all_mae_histories.append(mae_history)\n"
      ]
    },
    {
      "cell_type": "code",
      "execution_count": null,
      "metadata": {
        "colab": {
          "base_uri": "https://localhost:8080/",
          "height": 541
        },
        "id": "G7jQow1K5XlS",
        "outputId": "48e4f88d-c8a5-42af-9ab1-fbaf59dda294"
      },
      "outputs": [
        {
          "data": {
            "image/png": "[encoded data removed]",
            "text/plain": [
              "<Figure size 432x288 with 1 Axes>"
            ]
          },
          "metadata": {
            "needs_background": "light"
          },
          "output_type": "display_data"
        },
        {
          "data": {
            "image/png": "[encoded data removed]",
            "text/plain": [
              "<Figure size 432x288 with 1 Axes>"
            ]
          },
          "metadata": {
            "needs_background": "light"
          },
          "output_type": "display_data"
        }
      ],
      "source": [
        "average_mae_history = np.array(all_mae_histories).mean(axis=0)\n",
        "plt.plot(range(1, len(average_mae_history) + 1), average_mae_history)\n",
        "plt.xlabel('Epochs')\n",
        "plt.ylabel('Validation MAE')\n",
        "plt.show()\n",
        "\n",
        "average_loss_history = np.array(all_loss_histories).mean(axis=0)\n",
        "plt.plot(range(1, len(history.history['loss']) + 1), history.history['loss'])\n",
        "plt.xlabel('Epochs')\n",
        "plt.ylabel('Loss')\n",
        "plt.show()"
      ]
    },
    {
      "cell_type": "markdown",
      "metadata": {
        "id": "o2LhhLS8Bn7t"
      },
      "source": [
        "At this point we have created a well achieving model it is time develop a model that overfits. (I have already done this, and am happy with my current setup). After creating a model that overfits, and choosing the network setup just prior to that moment, we want to regularise (maximise generalisation performance) our model; to do so we can: remove or add layers, add dropout, add kernel regularisation, try a different learning rate."
      ]
    },
    {
      "cell_type": "markdown",
      "metadata": {
        "id": "sKjURq-OIcbp"
      },
      "source": [
        "###evaluating our model"
      ]
    },
    {
      "cell_type": "code",
      "execution_count": null,
      "metadata": {
        "colab": {
          "base_uri": "https://localhost:8080/"
        },
        "id": "QHbkIL5pIeaH",
        "outputId": "fc1f21a3-dcf6-439e-abbd-f9ccff81e869"
      },
      "outputs": [
        {
          "name": "stdout",
          "output_type": "stream",
          "text": [
            "4/4 [==============================] - 0s 4ms/step - loss: 22.9161 - mae: 3.1586\n",
            "loss — -> 22.91606903076172\n",
            "mae — -> 3.1585915088653564\n"
          ]
        }
      ],
      "source": [
        "result = model.evaluate(test_data, test_targets)\n",
        "for i in range(len(result)):\n",
        "    print(f'{model.metrics_names[i]} — -> {result[i]}')\n"
      ]
    },
    {
      "cell_type": "markdown",
      "metadata": {
        "id": "X9ydCJN9Izaz"
      },
      "source": [
        "THIS IS NOT GOOD! We are 3000 dollars off correct predictions, we should tune this in regularising, I don't think the issue is clear to us yet, so we wont seek to improve the model 'pre-regularisation'"
      ]
    },
    {
      "cell_type": "markdown",
      "metadata": {
        "id": "yTTYmKyeH_rF"
      },
      "source": [
        "##regularising our model"
      ]
    },
    {
      "cell_type": "code",
      "execution_count": null,
      "metadata": {
        "colab": {
          "base_uri": "https://localhost:8080/"
        },
        "id": "zmXfzD3PCM6x",
        "outputId": "df9d1035-2e3a-4b86-8439-3a0b42dcc274"
      },
      "outputs": [
        {
          "name": "stdout",
          "output_type": "stream",
          "text": [
            "Epoch 1/50\n",
            "19/19 [==============================] - 1s 13ms/step - loss: 233.5887 - mae: 12.2112 - val_loss: 39.7987 - val_mae: 4.0291\n",
            "Epoch 2/50\n",
            "19/19 [==============================] - 0s 5ms/step - loss: 35.1123 - mae: 4.0926 - val_loss: 31.1303 - val_mae: 3.6560\n",
            "Epoch 3/50\n",
            "19/19 [==============================] - 0s 5ms/step - loss: 26.3209 - mae: 3.2924 - val_loss: 22.5609 - val_mae: 2.6971\n",
            "Epoch 4/50\n",
            "19/19 [==============================] - 0s 5ms/step - loss: 22.0951 - mae: 2.8477 - val_loss: 17.6365 - val_mae: 2.4108\n",
            "Epoch 5/50\n",
            "19/19 [==============================] - 0s 4ms/step - loss: 20.6961 - mae: 2.8827 - val_loss: 15.3537 - val_mae: 2.2757\n",
            "Epoch 6/50\n",
            "19/19 [==============================] - 0s 4ms/step - loss: 18.5679 - mae: 2.6740 - val_loss: 14.9952 - val_mae: 2.2114\n",
            "Epoch 7/50\n",
            "19/19 [==============================] - 0s 5ms/step - loss: 18.0749 - mae: 2.6818 - val_loss: 13.3825 - val_mae: 2.0439\n",
            "Epoch 8/50\n",
            "19/19 [==============================] - 0s 4ms/step - loss: 16.6129 - mae: 2.4629 - val_loss: 14.4457 - val_mae: 2.2259\n",
            "Epoch 9/50\n",
            "19/19 [==============================] - 0s 5ms/step - loss: 16.4311 - mae: 2.5094 - val_loss: 13.7278 - val_mae: 2.2229\n",
            "Epoch 10/50\n",
            "19/19 [==============================] - 0s 5ms/step - loss: 15.1673 - mae: 2.2920 - val_loss: 19.7100 - val_mae: 2.8124\n",
            "Epoch 11/50\n",
            "19/19 [==============================] - 0s 5ms/step - loss: 15.3417 - mae: 2.3640 - val_loss: 12.5558 - val_mae: 2.0554\n",
            "Epoch 12/50\n",
            "19/19 [==============================] - 0s 5ms/step - loss: 15.2296 - mae: 2.3625 - val_loss: 12.5547 - val_mae: 2.0690\n",
            "Epoch 13/50\n",
            "19/19 [==============================] - 0s 4ms/step - loss: 14.1775 - mae: 2.3044 - val_loss: 13.7382 - val_mae: 2.2774\n",
            "Epoch 14/50\n",
            "19/19 [==============================] - 0s 4ms/step - loss: 14.9398 - mae: 2.3404 - val_loss: 13.0478 - val_mae: 2.3308\n",
            "Epoch 15/50\n",
            "19/19 [==============================] - 0s 4ms/step - loss: 13.8105 - mae: 2.1653 - val_loss: 16.7993 - val_mae: 2.6296\n",
            "Epoch 16/50\n",
            "19/19 [==============================] - 0s 5ms/step - loss: 15.0565 - mae: 2.3834 - val_loss: 12.1204 - val_mae: 2.0486\n",
            "Epoch 17/50\n",
            "19/19 [==============================] - 0s 4ms/step - loss: 12.8427 - mae: 2.1833 - val_loss: 14.8709 - val_mae: 2.4495\n",
            "Epoch 18/50\n",
            "19/19 [==============================] - 0s 4ms/step - loss: 13.5176 - mae: 2.2225 - val_loss: 13.0309 - val_mae: 2.3349\n",
            "Epoch 19/50\n",
            "19/19 [==============================] - 0s 6ms/step - loss: 13.3847 - mae: 2.1772 - val_loss: 12.5811 - val_mae: 2.0550\n",
            "Epoch 20/50\n",
            "19/19 [==============================] - 0s 5ms/step - loss: 12.3699 - mae: 2.0522 - val_loss: 19.2875 - val_mae: 3.0959\n",
            "Epoch 21/50\n",
            "19/19 [==============================] - 0s 5ms/step - loss: 13.0518 - mae: 2.0925 - val_loss: 11.3131 - val_mae: 1.9445\n",
            "Epoch 22/50\n",
            "19/19 [==============================] - 0s 5ms/step - loss: 12.2834 - mae: 2.1192 - val_loss: 12.1544 - val_mae: 2.1853\n",
            "Epoch 23/50\n",
            "19/19 [==============================] - 0s 7ms/step - loss: 12.1798 - mae: 2.0644 - val_loss: 11.9739 - val_mae: 2.1052\n",
            "Epoch 24/50\n",
            "19/19 [==============================] - 0s 6ms/step - loss: 11.9211 - mae: 2.0839 - val_loss: 11.1019 - val_mae: 2.0562\n",
            "Epoch 25/50\n",
            "19/19 [==============================] - 0s 6ms/step - loss: 11.3436 - mae: 2.0025 - val_loss: 11.9116 - val_mae: 2.1654\n",
            "Epoch 26/50\n",
            "19/19 [==============================] - 0s 5ms/step - loss: 11.8879 - mae: 2.0625 - val_loss: 12.8551 - val_mae: 2.1961\n",
            "Epoch 27/50\n",
            "19/19 [==============================] - 0s 5ms/step - loss: 11.9096 - mae: 2.0737 - val_loss: 12.7159 - val_mae: 2.1524\n",
            "Epoch 28/50\n",
            "19/19 [==============================] - 0s 4ms/step - loss: 10.9505 - mae: 1.9545 - val_loss: 12.3320 - val_mae: 2.1400\n",
            "Epoch 29/50\n",
            "19/19 [==============================] - 0s 4ms/step - loss: 11.1340 - mae: 1.9544 - val_loss: 11.3883 - val_mae: 2.0262\n",
            "Epoch 30/50\n",
            "19/19 [==============================] - 0s 4ms/step - loss: 10.8783 - mae: 1.9807 - val_loss: 13.3011 - val_mae: 2.4332\n",
            "Epoch 31/50\n",
            "19/19 [==============================] - 0s 5ms/step - loss: 10.6929 - mae: 1.9902 - val_loss: 11.3575 - val_mae: 1.9786\n",
            "Epoch 32/50\n",
            "19/19 [==============================] - 0s 5ms/step - loss: 11.3655 - mae: 2.0175 - val_loss: 11.8036 - val_mae: 1.9982\n",
            "Epoch 33/50\n",
            "19/19 [==============================] - 0s 5ms/step - loss: 10.4093 - mae: 1.8327 - val_loss: 12.1173 - val_mae: 2.2564\n",
            "Epoch 34/50\n",
            "19/19 [==============================] - 0s 4ms/step - loss: 10.3039 - mae: 1.8978 - val_loss: 18.8055 - val_mae: 2.9149\n",
            "Epoch 35/50\n",
            "19/19 [==============================] - 0s 5ms/step - loss: 10.4242 - mae: 1.9256 - val_loss: 14.2414 - val_mae: 2.6206\n",
            "Epoch 36/50\n",
            "19/19 [==============================] - 0s 5ms/step - loss: 10.7189 - mae: 1.9620 - val_loss: 11.1879 - val_mae: 2.0021\n",
            "Epoch 37/50\n",
            "19/19 [==============================] - 0s 4ms/step - loss: 9.7273 - mae: 1.7437 - val_loss: 11.9693 - val_mae: 2.0875\n",
            "Epoch 38/50\n",
            "19/19 [==============================] - 0s 4ms/step - loss: 10.2607 - mae: 1.9021 - val_loss: 11.9065 - val_mae: 2.0699\n",
            "Epoch 39/50\n",
            "19/19 [==============================] - 0s 4ms/step - loss: 9.6197 - mae: 1.8218 - val_loss: 10.9117 - val_mae: 2.0016\n",
            "Epoch 40/50\n",
            "19/19 [==============================] - 0s 4ms/step - loss: 9.9163 - mae: 1.8381 - val_loss: 11.3376 - val_mae: 2.0087\n",
            "Epoch 41/50\n",
            "19/19 [==============================] - 0s 5ms/step - loss: 9.2504 - mae: 1.7960 - val_loss: 11.1932 - val_mae: 2.1021\n",
            "Epoch 42/50\n",
            "19/19 [==============================] - 0s 4ms/step - loss: 9.5899 - mae: 1.8780 - val_loss: 13.0583 - val_mae: 2.1855\n",
            "Epoch 43/50\n",
            "19/19 [==============================] - 0s 4ms/step - loss: 9.4746 - mae: 1.8223 - val_loss: 13.7168 - val_mae: 2.4145\n",
            "Epoch 44/50\n",
            "19/19 [==============================] - 0s 4ms/step - loss: 9.2386 - mae: 1.7834 - val_loss: 11.7526 - val_mae: 2.2334\n",
            "Epoch 45/50\n",
            "19/19 [==============================] - 0s 5ms/step - loss: 9.3686 - mae: 1.7810 - val_loss: 11.6108 - val_mae: 2.0767\n",
            "Epoch 46/50\n",
            "19/19 [==============================] - 0s 5ms/step - loss: 9.6619 - mae: 1.8714 - val_loss: 11.0353 - val_mae: 1.9497\n",
            "Epoch 47/50\n",
            "19/19 [==============================] - 0s 5ms/step - loss: 8.8505 - mae: 1.7160 - val_loss: 11.0698 - val_mae: 2.0333\n",
            "Epoch 48/50\n",
            "19/19 [==============================] - 0s 5ms/step - loss: 9.1082 - mae: 1.7830 - val_loss: 10.5161 - val_mae: 1.9878\n",
            "Epoch 49/50\n",
            "19/19 [==============================] - 0s 5ms/step - loss: 8.7766 - mae: 1.7219 - val_loss: 11.6270 - val_mae: 2.0963\n",
            "Epoch 50/50\n",
            "19/19 [==============================] - 0s 5ms/step - loss: 8.8029 - mae: 1.7812 - val_loss: 13.3335 - val_mae: 2.2243\n",
            "Epoch 1/50\n",
            "19/19 [==============================] - 1s 13ms/step - loss: 302.7259 - mae: 13.6448 - val_loss: 56.9848 - val_mae: 5.4622\n",
            "Epoch 2/50\n",
            "19/19 [==============================] - 0s 5ms/step - loss: 39.6370 - mae: 4.2427 - val_loss: 32.6379 - val_mae: 3.8519\n",
            "Epoch 3/50\n",
            "19/19 [==============================] - 0s 4ms/step - loss: 25.9857 - mae: 3.2064 - val_loss: 27.8841 - val_mae: 3.5805\n",
            "Epoch 4/50\n",
            "19/19 [==============================] - 0s 5ms/step - loss: 22.9392 - mae: 3.0014 - val_loss: 23.8614 - val_mae: 3.2617\n",
            "Epoch 5/50\n",
            "19/19 [==============================] - 0s 4ms/step - loss: 20.5361 - mae: 2.8467 - val_loss: 22.7718 - val_mae: 3.1643\n",
            "Epoch 6/50\n",
            "19/19 [==============================] - 0s 4ms/step - loss: 19.6076 - mae: 2.6938 - val_loss: 20.3837 - val_mae: 2.9486\n",
            "Epoch 7/50\n",
            "19/19 [==============================] - 0s 4ms/step - loss: 17.8298 - mae: 2.6651 - val_loss: 21.1255 - val_mae: 3.1341\n",
            "Epoch 8/50\n",
            "19/19 [==============================] - 0s 4ms/step - loss: 16.9639 - mae: 2.5396 - val_loss: 20.0876 - val_mae: 3.0879\n",
            "Epoch 9/50\n",
            "19/19 [==============================] - 0s 4ms/step - loss: 16.6261 - mae: 2.4774 - val_loss: 18.5930 - val_mae: 2.9202\n",
            "Epoch 10/50\n",
            "19/19 [==============================] - 0s 5ms/step - loss: 15.5563 - mae: 2.3240 - val_loss: 17.7140 - val_mae: 2.8402\n",
            "Epoch 11/50\n",
            "19/19 [==============================] - 0s 5ms/step - loss: 14.8018 - mae: 2.3589 - val_loss: 17.9814 - val_mae: 2.8787\n",
            "Epoch 12/50\n",
            "19/19 [==============================] - 0s 4ms/step - loss: 15.1367 - mae: 2.3883 - val_loss: 24.1170 - val_mae: 3.4929\n",
            "Epoch 13/50\n",
            "19/19 [==============================] - 0s 4ms/step - loss: 14.7606 - mae: 2.3456 - val_loss: 16.7230 - val_mae: 2.7518\n",
            "Epoch 14/50\n",
            "19/19 [==============================] - 0s 4ms/step - loss: 13.7057 - mae: 2.1435 - val_loss: 17.3993 - val_mae: 2.8686\n",
            "Epoch 15/50\n",
            "19/19 [==============================] - 0s 5ms/step - loss: 13.9313 - mae: 2.2080 - val_loss: 16.8144 - val_mae: 2.7620\n",
            "Epoch 16/50\n",
            "19/19 [==============================] - 0s 4ms/step - loss: 13.2965 - mae: 2.2581 - val_loss: 16.8942 - val_mae: 2.8151\n",
            "Epoch 17/50\n",
            "19/19 [==============================] - 0s 5ms/step - loss: 12.8777 - mae: 2.1554 - val_loss: 16.1713 - val_mae: 2.7417\n",
            "Epoch 18/50\n",
            "19/19 [==============================] - 0s 6ms/step - loss: 13.4794 - mae: 2.1959 - val_loss: 13.9105 - val_mae: 2.4467\n",
            "Epoch 19/50\n",
            "19/19 [==============================] - 0s 5ms/step - loss: 12.8877 - mae: 2.1666 - val_loss: 15.6281 - val_mae: 2.6749\n",
            "Epoch 20/50\n",
            "19/19 [==============================] - 0s 5ms/step - loss: 12.4920 - mae: 2.0454 - val_loss: 14.4451 - val_mae: 2.5235\n",
            "Epoch 21/50\n",
            "19/19 [==============================] - 0s 4ms/step - loss: 11.9649 - mae: 2.0626 - val_loss: 19.1527 - val_mae: 3.1037\n",
            "Epoch 22/50\n",
            "19/19 [==============================] - 0s 5ms/step - loss: 12.8052 - mae: 2.1518 - val_loss: 14.4729 - val_mae: 2.5464\n",
            "Epoch 23/50\n",
            "19/19 [==============================] - 0s 5ms/step - loss: 11.4011 - mae: 1.9693 - val_loss: 18.0618 - val_mae: 2.9695\n",
            "Epoch 24/50\n",
            "19/19 [==============================] - 0s 4ms/step - loss: 10.6982 - mae: 1.9239 - val_loss: 14.0465 - val_mae: 2.4322\n",
            "Epoch 25/50\n",
            "19/19 [==============================] - 0s 5ms/step - loss: 11.1844 - mae: 1.9772 - val_loss: 13.3109 - val_mae: 2.3767\n",
            "Epoch 26/50\n",
            "19/19 [==============================] - 0s 5ms/step - loss: 11.8208 - mae: 1.9991 - val_loss: 19.5635 - val_mae: 3.2106\n",
            "Epoch 27/50\n",
            "19/19 [==============================] - 0s 6ms/step - loss: 10.6983 - mae: 1.9273 - val_loss: 13.6815 - val_mae: 2.4154\n",
            "Epoch 28/50\n",
            "19/19 [==============================] - 0s 5ms/step - loss: 10.7914 - mae: 1.9213 - val_loss: 13.0976 - val_mae: 2.3229\n",
            "Epoch 29/50\n",
            "19/19 [==============================] - 0s 5ms/step - loss: 10.3537 - mae: 1.8744 - val_loss: 18.2202 - val_mae: 3.0478\n",
            "Epoch 30/50\n",
            "19/19 [==============================] - 0s 5ms/step - loss: 11.0520 - mae: 2.0239 - val_loss: 12.9513 - val_mae: 2.3389\n",
            "Epoch 31/50\n",
            "19/19 [==============================] - 0s 5ms/step - loss: 9.9791 - mae: 1.8532 - val_loss: 14.0236 - val_mae: 2.5179\n",
            "Epoch 32/50\n",
            "19/19 [==============================] - 0s 4ms/step - loss: 9.6882 - mae: 1.7977 - val_loss: 23.1468 - val_mae: 3.6476\n",
            "Epoch 33/50\n",
            "19/19 [==============================] - 0s 5ms/step - loss: 10.5263 - mae: 1.9080 - val_loss: 23.2493 - val_mae: 3.6558\n",
            "Epoch 34/50\n",
            "19/19 [==============================] - 0s 4ms/step - loss: 9.6399 - mae: 1.8594 - val_loss: 12.9215 - val_mae: 2.3717\n",
            "Epoch 35/50\n",
            "19/19 [==============================] - 0s 4ms/step - loss: 10.0115 - mae: 1.8380 - val_loss: 15.4765 - val_mae: 2.7518\n",
            "Epoch 36/50\n",
            "19/19 [==============================] - 0s 4ms/step - loss: 9.8254 - mae: 1.8314 - val_loss: 13.2778 - val_mae: 2.4032\n",
            "Epoch 37/50\n",
            "19/19 [==============================] - 0s 4ms/step - loss: 9.3442 - mae: 1.8072 - val_loss: 12.5007 - val_mae: 2.2561\n",
            "Epoch 38/50\n",
            "19/19 [==============================] - 0s 4ms/step - loss: 9.1350 - mae: 1.7167 - val_loss: 13.7482 - val_mae: 2.4755\n",
            "Epoch 39/50\n",
            "19/19 [==============================] - 0s 4ms/step - loss: 9.3120 - mae: 1.7178 - val_loss: 12.9985 - val_mae: 2.4164\n",
            "Epoch 40/50\n",
            "19/19 [==============================] - 0s 5ms/step - loss: 9.1791 - mae: 1.7380 - val_loss: 18.9175 - val_mae: 3.1201\n",
            "Epoch 41/50\n",
            "19/19 [==============================] - 0s 6ms/step - loss: 9.4359 - mae: 1.7273 - val_loss: 12.7764 - val_mae: 2.3831\n",
            "Epoch 42/50\n",
            "19/19 [==============================] - 0s 4ms/step - loss: 9.0088 - mae: 1.7417 - val_loss: 11.9772 - val_mae: 2.2236\n",
            "Epoch 43/50\n",
            "19/19 [==============================] - 0s 5ms/step - loss: 9.1863 - mae: 1.7317 - val_loss: 13.3007 - val_mae: 2.4142\n",
            "Epoch 44/50\n",
            "19/19 [==============================] - 0s 4ms/step - loss: 8.7203 - mae: 1.6720 - val_loss: 12.8114 - val_mae: 2.3039\n",
            "Epoch 45/50\n",
            "19/19 [==============================] - 0s 4ms/step - loss: 8.8471 - mae: 1.7743 - val_loss: 13.5960 - val_mae: 2.4639\n",
            "Epoch 46/50\n",
            "19/19 [==============================] - 0s 5ms/step - loss: 8.1790 - mae: 1.6587 - val_loss: 12.5210 - val_mae: 2.3060\n",
            "Epoch 47/50\n",
            "19/19 [==============================] - 0s 5ms/step - loss: 9.0831 - mae: 1.7974 - val_loss: 12.1080 - val_mae: 2.2540\n",
            "Epoch 48/50\n",
            "19/19 [==============================] - 0s 5ms/step - loss: 7.6979 - mae: 1.4852 - val_loss: 13.0857 - val_mae: 2.4121\n",
            "Epoch 49/50\n",
            "19/19 [==============================] - 0s 4ms/step - loss: 8.9531 - mae: 1.7565 - val_loss: 15.8977 - val_mae: 2.8306\n",
            "Epoch 50/50\n",
            "19/19 [==============================] - 0s 4ms/step - loss: 7.1804 - mae: 1.4388 - val_loss: 11.6211 - val_mae: 2.1445\n",
            "Epoch 1/50\n",
            "19/19 [==============================] - 1s 14ms/step - loss: 277.3232 - mae: 13.3205 - val_loss: 49.9902 - val_mae: 5.0470\n",
            "Epoch 2/50\n",
            "19/19 [==============================] - 0s 7ms/step - loss: 40.8004 - mae: 4.3572 - val_loss: 31.5100 - val_mae: 3.5536\n",
            "Epoch 3/50\n",
            "19/19 [==============================] - 0s 6ms/step - loss: 26.9235 - mae: 3.3017 - val_loss: 26.0051 - val_mae: 3.1821\n",
            "Epoch 4/50\n",
            "19/19 [==============================] - 0s 5ms/step - loss: 22.4359 - mae: 3.0532 - val_loss: 22.6655 - val_mae: 2.8152\n",
            "Epoch 5/50\n",
            "19/19 [==============================] - 0s 6ms/step - loss: 18.8268 - mae: 2.7456 - val_loss: 23.1371 - val_mae: 3.0802\n",
            "Epoch 6/50\n",
            "19/19 [==============================] - 0s 6ms/step - loss: 17.1779 - mae: 2.6175 - val_loss: 20.8867 - val_mae: 2.9641\n",
            "Epoch 7/50\n",
            "19/19 [==============================] - 0s 5ms/step - loss: 16.8568 - mae: 2.6076 - val_loss: 19.3343 - val_mae: 2.6045\n",
            "Epoch 8/50\n",
            "19/19 [==============================] - 0s 6ms/step - loss: 15.4160 - mae: 2.5448 - val_loss: 18.5542 - val_mae: 2.6089\n",
            "Epoch 9/50\n",
            "19/19 [==============================] - 0s 5ms/step - loss: 14.7200 - mae: 2.4446 - val_loss: 21.8368 - val_mae: 3.1282\n",
            "Epoch 10/50\n",
            "19/19 [==============================] - 0s 6ms/step - loss: 13.8318 - mae: 2.3504 - val_loss: 17.9739 - val_mae: 2.5390\n",
            "Epoch 11/50\n",
            "19/19 [==============================] - 0s 7ms/step - loss: 14.7637 - mae: 2.3623 - val_loss: 22.7273 - val_mae: 3.1666\n",
            "Epoch 12/50\n",
            "19/19 [==============================] - 0s 6ms/step - loss: 12.9923 - mae: 2.2061 - val_loss: 21.8582 - val_mae: 3.1220\n",
            "Epoch 13/50\n",
            "19/19 [==============================] - 0s 4ms/step - loss: 13.2979 - mae: 2.3085 - val_loss: 20.0542 - val_mae: 2.8455\n",
            "Epoch 14/50\n",
            "19/19 [==============================] - 0s 5ms/step - loss: 12.4229 - mae: 2.1883 - val_loss: 20.0634 - val_mae: 2.8790\n",
            "Epoch 15/50\n",
            "19/19 [==============================] - 0s 4ms/step - loss: 12.5858 - mae: 2.1513 - val_loss: 17.2182 - val_mae: 2.5156\n",
            "Epoch 16/50\n",
            "19/19 [==============================] - 0s 5ms/step - loss: 12.2919 - mae: 2.1835 - val_loss: 17.7867 - val_mae: 2.7056\n",
            "Epoch 17/50\n",
            "19/19 [==============================] - 0s 5ms/step - loss: 12.6736 - mae: 2.2372 - val_loss: 17.0916 - val_mae: 2.3518\n",
            "Epoch 18/50\n",
            "19/19 [==============================] - 0s 4ms/step - loss: 12.1984 - mae: 2.1208 - val_loss: 17.0480 - val_mae: 2.4397\n",
            "Epoch 19/50\n",
            "19/19 [==============================] - 0s 4ms/step - loss: 11.4432 - mae: 2.0462 - val_loss: 16.8627 - val_mae: 2.4257\n",
            "Epoch 20/50\n",
            "19/19 [==============================] - 0s 6ms/step - loss: 11.4997 - mae: 2.0602 - val_loss: 18.4663 - val_mae: 2.7129\n",
            "Epoch 21/50\n",
            "19/19 [==============================] - 0s 5ms/step - loss: 11.2712 - mae: 2.0488 - val_loss: 16.8157 - val_mae: 2.3737\n",
            "Epoch 22/50\n",
            "19/19 [==============================] - 0s 4ms/step - loss: 11.4369 - mae: 2.0396 - val_loss: 16.7599 - val_mae: 2.4242\n",
            "Epoch 23/50\n",
            "19/19 [==============================] - 0s 5ms/step - loss: 10.9106 - mae: 1.9632 - val_loss: 17.4057 - val_mae: 2.4400\n",
            "Epoch 24/50\n",
            "19/19 [==============================] - 0s 4ms/step - loss: 10.1854 - mae: 1.8874 - val_loss: 17.3170 - val_mae: 2.4237\n",
            "Epoch 25/50\n",
            "19/19 [==============================] - 0s 4ms/step - loss: 10.8437 - mae: 2.0031 - val_loss: 16.1595 - val_mae: 2.4080\n",
            "Epoch 26/50\n",
            "19/19 [==============================] - 0s 5ms/step - loss: 10.0728 - mae: 1.8718 - val_loss: 18.5312 - val_mae: 2.5577\n",
            "Epoch 27/50\n",
            "19/19 [==============================] - 0s 5ms/step - loss: 9.5721 - mae: 1.8242 - val_loss: 24.3800 - val_mae: 3.2793\n",
            "Epoch 28/50\n",
            "19/19 [==============================] - 0s 4ms/step - loss: 10.2674 - mae: 1.9345 - val_loss: 17.3246 - val_mae: 2.3905\n",
            "Epoch 29/50\n",
            "19/19 [==============================] - 0s 5ms/step - loss: 10.4452 - mae: 1.9419 - val_loss: 17.1514 - val_mae: 2.5473\n",
            "Epoch 30/50\n",
            "19/19 [==============================] - 0s 4ms/step - loss: 10.3012 - mae: 1.9744 - val_loss: 16.2545 - val_mae: 2.3350\n",
            "Epoch 31/50\n",
            "19/19 [==============================] - 0s 6ms/step - loss: 9.1127 - mae: 1.7457 - val_loss: 19.9248 - val_mae: 2.8492\n",
            "Epoch 32/50\n",
            "19/19 [==============================] - 0s 5ms/step - loss: 9.8698 - mae: 1.9379 - val_loss: 15.7118 - val_mae: 2.3157\n",
            "Epoch 33/50\n",
            "19/19 [==============================] - 0s 5ms/step - loss: 10.1744 - mae: 1.9532 - val_loss: 16.3998 - val_mae: 2.4311\n",
            "Epoch 34/50\n",
            "19/19 [==============================] - 0s 5ms/step - loss: 8.9835 - mae: 1.7380 - val_loss: 15.8143 - val_mae: 2.4380\n",
            "Epoch 35/50\n",
            "19/19 [==============================] - 0s 5ms/step - loss: 8.8563 - mae: 1.7729 - val_loss: 16.8500 - val_mae: 2.4434\n",
            "Epoch 36/50\n",
            "19/19 [==============================] - 0s 4ms/step - loss: 9.1972 - mae: 1.8078 - val_loss: 17.3682 - val_mae: 2.6702\n",
            "Epoch 37/50\n",
            "19/19 [==============================] - 0s 5ms/step - loss: 8.5786 - mae: 1.6772 - val_loss: 17.6692 - val_mae: 2.6339\n",
            "Epoch 38/50\n",
            "19/19 [==============================] - 0s 5ms/step - loss: 8.9639 - mae: 1.8360 - val_loss: 17.0397 - val_mae: 2.5029\n",
            "Epoch 39/50\n",
            "19/19 [==============================] - 0s 5ms/step - loss: 8.6137 - mae: 1.6778 - val_loss: 17.3829 - val_mae: 2.6210\n",
            "Epoch 40/50\n",
            "19/19 [==============================] - 0s 6ms/step - loss: 8.5027 - mae: 1.6873 - val_loss: 15.8521 - val_mae: 2.3890\n",
            "Epoch 41/50\n",
            "19/19 [==============================] - 0s 5ms/step - loss: 8.2166 - mae: 1.6626 - val_loss: 16.5033 - val_mae: 2.3958\n",
            "Epoch 42/50\n",
            "19/19 [==============================] - 0s 7ms/step - loss: 9.1535 - mae: 1.7835 - val_loss: 18.2258 - val_mae: 2.6629\n",
            "Epoch 43/50\n",
            "19/19 [==============================] - 0s 4ms/step - loss: 8.7498 - mae: 1.7004 - val_loss: 15.9020 - val_mae: 2.4027\n",
            "Epoch 44/50\n",
            "19/19 [==============================] - 0s 4ms/step - loss: 8.2301 - mae: 1.6863 - val_loss: 15.7511 - val_mae: 2.3444\n",
            "Epoch 45/50\n",
            "19/19 [==============================] - 0s 4ms/step - loss: 7.5534 - mae: 1.5230 - val_loss: 18.3524 - val_mae: 2.8095\n",
            "Epoch 46/50\n",
            "19/19 [==============================] - 0s 4ms/step - loss: 8.7518 - mae: 1.6980 - val_loss: 16.0450 - val_mae: 2.3858\n",
            "Epoch 47/50\n",
            "19/19 [==============================] - 0s 4ms/step - loss: 7.7010 - mae: 1.5624 - val_loss: 15.8324 - val_mae: 2.3534\n",
            "Epoch 48/50\n",
            "19/19 [==============================] - 0s 4ms/step - loss: 8.1414 - mae: 1.6605 - val_loss: 23.1809 - val_mae: 3.2542\n",
            "Epoch 49/50\n",
            "19/19 [==============================] - 0s 4ms/step - loss: 7.8689 - mae: 1.5998 - val_loss: 17.2400 - val_mae: 2.6092\n",
            "Epoch 50/50\n",
            "19/19 [==============================] - 0s 4ms/step - loss: 7.6872 - mae: 1.6332 - val_loss: 18.3078 - val_mae: 2.8448\n",
            "Epoch 1/50\n",
            "19/19 [==============================] - 1s 17ms/step - loss: 241.7308 - mae: 12.4241 - val_loss: 70.1179 - val_mae: 6.0574\n",
            "Epoch 2/50\n",
            "19/19 [==============================] - 0s 6ms/step - loss: 37.1418 - mae: 4.0322 - val_loss: 45.0979 - val_mae: 4.2509\n",
            "Epoch 3/50\n",
            "19/19 [==============================] - 0s 6ms/step - loss: 26.4380 - mae: 3.2661 - val_loss: 31.2240 - val_mae: 3.3565\n",
            "Epoch 4/50\n",
            "19/19 [==============================] - 0s 6ms/step - loss: 22.2804 - mae: 2.9073 - val_loss: 26.6044 - val_mae: 3.2465\n",
            "Epoch 5/50\n",
            "19/19 [==============================] - 0s 6ms/step - loss: 20.9325 - mae: 2.9078 - val_loss: 22.8341 - val_mae: 3.0386\n",
            "Epoch 6/50\n",
            "19/19 [==============================] - 0s 5ms/step - loss: 18.7290 - mae: 2.6935 - val_loss: 20.7566 - val_mae: 2.9481\n",
            "Epoch 7/50\n",
            "19/19 [==============================] - 0s 4ms/step - loss: 16.6634 - mae: 2.5507 - val_loss: 19.6491 - val_mae: 2.7749\n",
            "Epoch 8/50\n",
            "19/19 [==============================] - 0s 4ms/step - loss: 16.4347 - mae: 2.4701 - val_loss: 18.3676 - val_mae: 2.7906\n",
            "Epoch 9/50\n",
            "19/19 [==============================] - 0s 4ms/step - loss: 14.9806 - mae: 2.2793 - val_loss: 18.4165 - val_mae: 2.8276\n",
            "Epoch 10/50\n",
            "19/19 [==============================] - 0s 5ms/step - loss: 14.6609 - mae: 2.2755 - val_loss: 17.9491 - val_mae: 2.8096\n",
            "Epoch 11/50\n",
            "19/19 [==============================] - 0s 6ms/step - loss: 14.3127 - mae: 2.2951 - val_loss: 32.4677 - val_mae: 4.4282\n",
            "Epoch 12/50\n",
            "19/19 [==============================] - 0s 4ms/step - loss: 14.5952 - mae: 2.2571 - val_loss: 16.8030 - val_mae: 2.7072\n",
            "Epoch 13/50\n",
            "19/19 [==============================] - 0s 4ms/step - loss: 13.9922 - mae: 2.2351 - val_loss: 15.8892 - val_mae: 2.5184\n",
            "Epoch 14/50\n",
            "19/19 [==============================] - 0s 5ms/step - loss: 13.1646 - mae: 2.1653 - val_loss: 16.8641 - val_mae: 2.7581\n",
            "Epoch 15/50\n",
            "19/19 [==============================] - 0s 5ms/step - loss: 12.4748 - mae: 2.0972 - val_loss: 17.9751 - val_mae: 2.6715\n",
            "Epoch 16/50\n",
            "19/19 [==============================] - 0s 7ms/step - loss: 13.3958 - mae: 2.2099 - val_loss: 16.2511 - val_mae: 2.5204\n",
            "Epoch 17/50\n",
            "19/19 [==============================] - 0s 6ms/step - loss: 11.9232 - mae: 2.1053 - val_loss: 17.8151 - val_mae: 2.6483\n",
            "Epoch 18/50\n",
            "19/19 [==============================] - 0s 5ms/step - loss: 11.7655 - mae: 2.0690 - val_loss: 14.8718 - val_mae: 2.4302\n",
            "Epoch 19/50\n",
            "19/19 [==============================] - 0s 6ms/step - loss: 11.8777 - mae: 1.9864 - val_loss: 16.1682 - val_mae: 2.5508\n",
            "Epoch 20/50\n",
            "19/19 [==============================] - 0s 5ms/step - loss: 11.8540 - mae: 1.9983 - val_loss: 15.6923 - val_mae: 2.5713\n",
            "Epoch 21/50\n",
            "19/19 [==============================] - 0s 6ms/step - loss: 11.1372 - mae: 1.9823 - val_loss: 16.1668 - val_mae: 2.6676\n",
            "Epoch 22/50\n",
            "19/19 [==============================] - 0s 6ms/step - loss: 11.7582 - mae: 1.9710 - val_loss: 16.3621 - val_mae: 2.7230\n",
            "Epoch 23/50\n",
            "19/19 [==============================] - 0s 9ms/step - loss: 11.1991 - mae: 1.9787 - val_loss: 15.2834 - val_mae: 2.5249\n",
            "Epoch 24/50\n",
            "19/19 [==============================] - 0s 6ms/step - loss: 10.6708 - mae: 1.8417 - val_loss: 16.5495 - val_mae: 2.7133\n",
            "Epoch 25/50\n",
            "19/19 [==============================] - 0s 4ms/step - loss: 11.3372 - mae: 2.0205 - val_loss: 15.8954 - val_mae: 2.5620\n",
            "Epoch 26/50\n",
            "19/19 [==============================] - 0s 5ms/step - loss: 10.1206 - mae: 1.8373 - val_loss: 18.5782 - val_mae: 2.9567\n",
            "Epoch 27/50\n",
            "19/19 [==============================] - 0s 5ms/step - loss: 10.4560 - mae: 1.8579 - val_loss: 14.5953 - val_mae: 2.4159\n",
            "Epoch 28/50\n",
            "19/19 [==============================] - 0s 4ms/step - loss: 10.4826 - mae: 1.8932 - val_loss: 14.5331 - val_mae: 2.4889\n",
            "Epoch 29/50\n",
            "19/19 [==============================] - 0s 4ms/step - loss: 10.6853 - mae: 1.9350 - val_loss: 14.9546 - val_mae: 2.5321\n",
            "Epoch 30/50\n",
            "19/19 [==============================] - 0s 4ms/step - loss: 9.9397 - mae: 1.8217 - val_loss: 15.5994 - val_mae: 2.4653\n",
            "Epoch 31/50\n",
            "19/19 [==============================] - 0s 4ms/step - loss: 10.1930 - mae: 1.9075 - val_loss: 15.1122 - val_mae: 2.4745\n",
            "Epoch 32/50\n",
            "19/19 [==============================] - 0s 4ms/step - loss: 10.2595 - mae: 1.8715 - val_loss: 14.5868 - val_mae: 2.3940\n",
            "Epoch 33/50\n",
            "19/19 [==============================] - 0s 6ms/step - loss: 9.3214 - mae: 1.7569 - val_loss: 14.3841 - val_mae: 2.3978\n",
            "Epoch 34/50\n",
            "19/19 [==============================] - 0s 4ms/step - loss: 9.8307 - mae: 1.8237 - val_loss: 14.3236 - val_mae: 2.3755\n",
            "Epoch 35/50\n",
            "19/19 [==============================] - 0s 5ms/step - loss: 9.0112 - mae: 1.7020 - val_loss: 17.7914 - val_mae: 2.6422\n",
            "Epoch 36/50\n",
            "19/19 [==============================] - 0s 5ms/step - loss: 9.4976 - mae: 1.7761 - val_loss: 14.4127 - val_mae: 2.3626\n",
            "Epoch 37/50\n",
            "19/19 [==============================] - 0s 5ms/step - loss: 9.9745 - mae: 1.8182 - val_loss: 13.8243 - val_mae: 2.3064\n",
            "Epoch 38/50\n",
            "19/19 [==============================] - 0s 6ms/step - loss: 8.7531 - mae: 1.6183 - val_loss: 14.8159 - val_mae: 2.4373\n",
            "Epoch 39/50\n",
            "19/19 [==============================] - 0s 5ms/step - loss: 9.2751 - mae: 1.7037 - val_loss: 15.3337 - val_mae: 2.4560\n",
            "Epoch 40/50\n",
            "19/19 [==============================] - 0s 5ms/step - loss: 9.2011 - mae: 1.7637 - val_loss: 16.2929 - val_mae: 2.6329\n",
            "Epoch 41/50\n",
            "19/19 [==============================] - 0s 5ms/step - loss: 9.1540 - mae: 1.7735 - val_loss: 15.2601 - val_mae: 2.5482\n",
            "Epoch 42/50\n",
            "19/19 [==============================] - 0s 6ms/step - loss: 9.5222 - mae: 1.7642 - val_loss: 15.1303 - val_mae: 2.4503\n",
            "Epoch 43/50\n",
            "19/19 [==============================] - 0s 4ms/step - loss: 9.2910 - mae: 1.7269 - val_loss: 14.2582 - val_mae: 2.3860\n",
            "Epoch 44/50\n",
            "19/19 [==============================] - 0s 5ms/step - loss: 8.7195 - mae: 1.6319 - val_loss: 18.0819 - val_mae: 2.9780\n",
            "Epoch 45/50\n",
            "19/19 [==============================] - 0s 5ms/step - loss: 8.7746 - mae: 1.7389 - val_loss: 14.2197 - val_mae: 2.3927\n",
            "Epoch 46/50\n",
            "19/19 [==============================] - 0s 6ms/step - loss: 8.6318 - mae: 1.6600 - val_loss: 16.2001 - val_mae: 2.6332\n",
            "Epoch 47/50\n",
            "19/19 [==============================] - 0s 5ms/step - loss: 8.4677 - mae: 1.6345 - val_loss: 14.0578 - val_mae: 2.4309\n",
            "Epoch 48/50\n",
            "19/19 [==============================] - 0s 6ms/step - loss: 8.8900 - mae: 1.6959 - val_loss: 14.5528 - val_mae: 2.5045\n",
            "Epoch 49/50\n",
            "19/19 [==============================] - 0s 5ms/step - loss: 8.2606 - mae: 1.6524 - val_loss: 17.6130 - val_mae: 2.8824\n",
            "Epoch 50/50\n",
            "19/19 [==============================] - 0s 4ms/step - loss: 8.3337 - mae: 1.6110 - val_loss: 13.1697 - val_mae: 2.3321\n"
          ]
        }
      ],
      "source": [
        "from tensorflow.keras import models\n",
        "import tensorflow as tf\n",
        "from tensorflow.keras import layers\n",
        "from tensorflow.keras import regularizers\n",
        "from tensorflow.keras.layers import Dropout\n",
        "\n",
        "def build_model():\n",
        "  model = models.Sequential()\n",
        "  model.add(layers.Dense(128, input_dim = 13, activation='relu', kernel_regularizer=regularizers.l2(0.02)))\n",
        "  model.add(layers.Dense(128, activation='relu', kernel_regularizer=regularizers.l2(0.02)))\n",
        "  model.add(layers.Dense(128, activation='relu', kernel_regularizer=regularizers.l2(0.02)))\n",
        "  model.add(layers.Dense(1, activation='linear'))\n",
        "\n",
        "  #change learning rate here\n",
        "  rms = tf.keras.optimizers.RMSprop(learning_rate=0.001, momentum=0.2)\n",
        "  model.compile(\n",
        "      optimizer=rms,\n",
        "      loss='mse',\n",
        "      metrics=['mae']\n",
        "  )\n",
        "  return model\n",
        "\n",
        "# train\n",
        "K = 4\n",
        "num_val_samples = len(train_data) // K\n",
        "num_epochs = 50\n",
        "all_mae_histories = []\n",
        "all_loss_histories = []\n",
        "\n",
        "for i in range(K):\n",
        "    # Prepare the validation data: data from partition i\n",
        "    a, b = i * num_val_samples, (i + 1) * num_val_samples\n",
        "    val_data = train_data[a : b]\n",
        "    val_targets = train_targets[a : b]\n",
        "\n",
        "    # Prepare the training data: data from all other partitions\n",
        "    partial_train_data = np.concatenate([train_data[:a], train_data[b:]], axis=0)\n",
        "    partial_train_targets = np.concatenate([train_targets[:a], train_targets[b:]], axis=0)\n",
        "\n",
        "    # Build the Keras model (already compiled)\n",
        "    model = build_model()\n",
        "\n",
        "    # Train the model (in silent mode, verbose=0)\n",
        "    history = model.fit(\n",
        "        partial_train_data,\n",
        "        partial_train_targets,\n",
        "        validation_data=(val_data, val_targets),\n",
        "        epochs=num_epochs, batch_size=16)\n",
        "\n",
        "    mae_history = history.history['val_mae']\n",
        "    loss_history = history.history['loss']\n",
        "\n",
        "    all_loss_histories.append(loss_history)\n",
        "    all_mae_histories.append(mae_history)\n"
      ]
    },
    {
      "cell_type": "markdown",
      "metadata": {
        "id": "tx3HCUDgrlwj"
      },
      "source": [
        "findings:\n",
        "* l2 regularizers grant a better mae of around 0.01 (100$)\n",
        "* changing the learning rate from the defeault 0.001 doesn't provide good results\n",
        "* increasing momentum yields good results\n",
        "* less but more powerful layers give us good results\n",
        "* adding layer dropout is not giving us good results"
      ]
    },
    {
      "cell_type": "markdown",
      "metadata": {
        "id": "RJM2i1C-jXDI"
      },
      "source": [
        "#results"
      ]
    },
    {
      "cell_type": "markdown",
      "metadata": {
        "id": "xMzQ9ylOlwV1"
      },
      "source": [
        "###evaluating and analysing our model"
      ]
    },
    {
      "cell_type": "code",
      "execution_count": null,
      "metadata": {
        "colab": {
          "base_uri": "https://localhost:8080/",
          "height": 542
        },
        "id": "fFw_8K00Dae6",
        "outputId": "9c96336b-dc7b-4f3f-825e-01b8b2cf831f"
      },
      "outputs": [
        {
          "data": {
            "image/png": "[encoded data removed]",
            "text/plain": [
              "<Figure size 432x288 with 1 Axes>"
            ]
          },
          "metadata": {
            "needs_background": "light"
          },
          "output_type": "display_data"
        },
        {
          "data": {
            "image/png": "[encoded data removed]",
            "text/plain": [
              "<Figure size 432x288 with 1 Axes>"
            ]
          },
          "metadata": {
            "needs_background": "light"
          },
          "output_type": "display_data"
        }
      ],
      "source": [
        "average_mae_history = np.array(all_mae_histories).mean(axis=0)\n",
        "plt.plot(range(1, len(average_mae_history) + 1), average_mae_history)\n",
        "plt.xlabel('Epochs')\n",
        "plt.ylabel('Validation MAE')\n",
        "plt.show()\n",
        "\n",
        "average_loss_history = np.array(all_loss_histories).mean(axis=0)\n",
        "plt.plot(range(1, len(history.history['loss']) + 1), history.history['loss'])\n",
        "plt.xlabel('Epochs')\n",
        "plt.ylabel('Loss')\n",
        "plt.show()"
      ]
    },
    {
      "cell_type": "code",
      "execution_count": null,
      "metadata": {
        "colab": {
          "base_uri": "https://localhost:8080/"
        },
        "id": "uq53VH-7JAg1",
        "outputId": "8c809591-f01c-47e2-fbbe-088debd77e4d"
      },
      "outputs": [
        {
          "name": "stdout",
          "output_type": "stream",
          "text": [
            "4/4 [==============================] - 0s 6ms/step - loss: 21.7145 - mae: 2.7223\n",
            "loss — -> 21.71453285217285\n",
            "mae — -> 2.7222747802734375\n"
          ]
        }
      ],
      "source": [
        "result = model.evaluate(test_data, test_targets)\n",
        "for i in range(len(result)):\n",
        "    print(f'{model.metrics_names[i]} — -> {result[i]}')\n"
      ]
    },
    {
      "cell_type": "markdown",
      "metadata": {
        "id": "L3VMqS4wiiBz"
      },
      "source": [
        "After undergoing many experiments to understand the 'perfect' model for our job. We have now achieved a model that will predict house prices with $2500 - 3000 accuracy. We found a smaller model architecture with more units was ideal. Editing the parameters of the optimizer was very useful too, unfortunately something *Chollet* hasn't gone into much yet in my reading, however was able to save me around 0.5MAE (500 dollars). One very important step in the *Universal workflow - Deep Learning with Python 6.1-2* is to overfit your model to find the optimal parameters for your model, however no matter how over the top I made my model, I never seemed to be able to achieve this, even with holdout validation - I believe this this to be an issue with the size of our dataset, something that on my end I would not be able to solve.\n",
        "\n",
        "CholletF., Deep learning with Python. Shelter Island, NY: Manning Publications, 2018."
      ]
    },
    {
      "cell_type": "markdown",
      "metadata": {
        "id": "H9X-iPkgjZI_"
      },
      "source": [
        "#conclusion"
      ]
    },
    {
      "cell_type": "markdown",
      "metadata": {
        "id": "VEVsB1Sqko9t"
      },
      "source": [
        "Overall, some very valuable research and experimentation with deep learning as a concept has been performed here. Through adjusting parameters and model architecture we have demonstrated what the optimal setup for a regression task like this would look like. As mentioned above, it is unfortunate we couldn't achieve a model with better generalisation power, however like also mentioned above; this appears to be an issue with the dataset, not our code, as we were not able to make the model overfit - no matter how ridiculous we set up our model.\n",
        "\n",
        "If this task were a brief given by a client - my first step would be to compile more data, there are multitude of resources I could use here: kaggle, my own data research, etc. As ideally we would have a dataset large enough that standard holdout validation would be suitable. Onwards of that I would follow the same procedures as laid out by the *Universal Workflow - Deep Learning with Python* like I have done in my code here, and I would imagine at that point I would produce a model with very good generalisation power.\n",
        "\n"
      ]
    },
    {
      "cell_type": "code",
      "execution_count": null,
      "metadata": {
        "colab": {
          "base_uri": "https://localhost:8080/"
        },
        "id": "k5byOK9xsESm",
        "outputId": "6b9ec996-1f4c-43a4-ee0b-2b84bc4f0330"
      },
      "outputs": [
        {
          "name": "stdout",
          "output_type": "stream",
          "text": [
            "[NbConvertApp] Converting notebook /content/Artificial_intelligence_Coursework_1.ipynb to html\n",
            "[NbConvertApp] Writing 574743 bytes to /content/Artificial_intelligence_Coursework_1.html\n"
          ]
        },
        {
          "data": {
            "text/plain": []
          },
          "execution_count": 63,
          "metadata": {},
          "output_type": "execute_result"
        }
      ],
      "source": [
        "%%shell\n",
        "jupyter nbconvert --to html /content/Artificial_intelligence_Coursework_1.ipynb"
      ]
    },
    {
      "cell_type": "code",
      "execution_count": null,
      "metadata": {
        "id": "BCIUHtG_sJ21"
      },
      "outputs": [],
      "source": []
    }
  ],
  "metadata": {
    "colab": {
      "provenance": []
    },
    "kernelspec": {
      "display_name": "Python 3",
      "language": "python",
      "name": "python3"
    },
    "language_info": {
      "name": "python",
      "version": "3.10.8 (main, Oct 21 2022, 22:22:30) [Clang 14.0.0 (clang-1400.0.29.202)]"
    },
    "vscode": {
      "interpreter": {
        "hash": "b0fa6594d8f4cbf19f97940f81e996739fb7646882a419484c72d19e05852a7e"
      }
    }
  },
  "nbformat": 4,
  "nbformat_minor": 0
}